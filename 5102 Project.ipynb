{
 "cells": [
  {
   "cell_type": "markdown",
   "metadata": {
    "colab_type": "text",
    "id": "A0aZ7PURMk-z"
   },
   "source": [
    "<!-- dom:TITLE: STAT 5102 Regression in Practice Final Project -->\n",
    "# <center>Generalised Linear Model for Estimating Mortality Rate Using Development Indicators</center>\n",
    "\n",
    "---\n",
    "\n",
    "<!-- dom:AUTHOR: CHAN, Yiu Fung Frankie, 1155010561 -->\n",
    "<!-- Author: -->  \n",
    "**<h5><center>CHAN, Yiu Fung Frankie,  1155010561</center></h5>**  \n",
    "<!-- dom:AUTHOR: LI Wai Lan, 1155118254 -->\n",
    "<!-- Author: -->  \n",
    "**<h5><center>LI Wai Lan,  1155118254</center></h5>** \n",
    "<!-- dom:AUTHOR: WONG, Tsz Wing, 1004666311 -->\n",
    "<!-- Author: -->  \n",
    "**<h5><center>WONG, Tsz Wing,  1004666311</center></h5>**\n",
    "<!-- dom:AUTHOR: WONG, Yiu Chung, 1155017920 -->\n",
    "<!-- Author: -->  \n",
    "**<h5><center>WONG, Yiu Chung,  1155017920</center></h5>** \n",
    "\n",
    "\n",
    "Date: **Dec 10, 2018**"
   ]
  },
  {
   "cell_type": "markdown",
   "metadata": {
    "colab_type": "text",
    "id": "IbHi-SFdMk-4"
   },
   "source": [
    "In this study, we investigate the dataset obtained from The World Bank: World Development Indicators. A Generalised Linear Model is used to perform a prediction analysis on the response variable: Mortality rate, using ???(number) predictor variables."
   ]
  },
  {
   "cell_type": "code",
   "execution_count": 275,
   "metadata": {
    "colab": {},
    "colab_type": "code",
    "id": "LxXbZTafMk-9"
   },
   "outputs": [],
   "source": [
    "import scipy\n",
    "import pandas as pd\n",
    "import numpy as np\n",
    "import matplotlib.pyplot as plt\n",
    "import seaborn as sns"
   ]
  },
  {
   "cell_type": "code",
   "execution_count": 276,
   "metadata": {
    "colab": {},
    "colab_type": "code",
    "id": "kn366paIKbtv"
   },
   "outputs": [],
   "source": [
    "#An integer for any random process that accepts a seed.\n",
    "STAT5102 = 5102"
   ]
  },
  {
   "cell_type": "code",
   "execution_count": 277,
   "metadata": {},
   "outputs": [],
   "source": [
    "def calculate_mse(y_true, y_pred, n, k):\n",
    "    resid = (y_true - y_pred)\n",
    "    rss = np.sum(resid**2)\n",
    "    mse = rss / (n - (k + 1))\n",
    "    return mse"
   ]
  },
  {
   "cell_type": "markdown",
   "metadata": {
    "colab_type": "text",
    "id": "vRZsaYpXMk_L"
   },
   "source": [
    "# Import data\n",
    "\n",
    "---\n",
    "\n"
   ]
  },
  {
   "cell_type": "code",
   "execution_count": 278,
   "metadata": {
    "colab": {
     "base_uri": "https://localhost:8080/",
     "height": 108
    },
    "colab_type": "code",
    "executionInfo": {
     "elapsed": 1260,
     "status": "ok",
     "timestamp": 1543478027882,
     "user": {
      "displayName": "Yiu Chung Wong",
      "photoUrl": "",
      "userId": "13387726171847961125"
     },
     "user_tz": -480
    },
    "id": "GQSwfqETMk_P",
    "outputId": "baf862b1-05d0-4b73-a1b8-77f2213aecf9"
   },
   "outputs": [],
   "source": [
    "#change working directory to 5102 project folder\n",
    "from sys import platform\n",
    "from os import chdir\n",
    "\n",
    "CURRENT_OS = platform\n",
    "if CURRENT_OS == \"darwin\": #MacOS\n",
    "    chdir(r\"/Users/chung/Google Drive/2018R1 Regression in Practice (STAT5102)/5012 Project\")\n",
    "elif CURRENT_OS == \"linux\": #Google Colab\n",
    "    from google.colab import drive\n",
    "    drive.mount('/content/gdrive/')\n",
    "    %cd 'gdrive/My Drive/2018R1 Regression in Practice (STAT5102)/5012 Project'\n"
   ]
  },
  {
   "cell_type": "code",
   "execution_count": 279,
   "metadata": {
    "colab": {},
    "colab_type": "code",
    "id": "blJez3k5dneZ"
   },
   "outputs": [],
   "source": [
    "#read project_data.sas7bdat\n",
    "world_bank = pd.read_sas(r\"project_data.sas7bdat\", encoding=\"utf-8\")"
   ]
  },
  {
   "cell_type": "markdown",
   "metadata": {
    "colab_type": "text",
    "id": "ne1HzCpbMk_V"
   },
   "source": [
    "# Preliminary data wrangling \n",
    "\n",
    "---\n",
    "\n"
   ]
  },
  {
   "cell_type": "code",
   "execution_count": 280,
   "metadata": {
    "colab": {},
    "colab_type": "code",
    "id": "z1yi25uJMk_X"
   },
   "outputs": [],
   "source": [
    "#Drop the column Year and YearCode\n",
    "world_bank.drop([\"Year\", \"YearCode\", \"Country Name\", \"Country Code\"], axis=1, inplace = True)"
   ]
  },
  {
   "cell_type": "code",
   "execution_count": 281,
   "metadata": {
    "colab": {},
    "colab_type": "code",
    "id": "83VXVyadMk_n"
   },
   "outputs": [],
   "source": [
    "#Age dependency ratio (% of working-age population) includes people who are below 15 or above than 64\n",
    "#Age dependency ratio, young (% of working-age population) only includes people below 15\n",
    "#hence the first one includes redundant information\n",
    "\n",
    "world_bank.rename(index = str, columns={\"Age dependency ratio (% of worki\": \"Age dependency ratio, old\",\n",
    "                                       \"Age dependency ratio, young (% o\": \"Age dependency ratio, young\"},\n",
    "                 inplace = True)\n",
    "\n",
    "world_bank[\"Age dependency ratio, old\"] -= world_bank[\"Age dependency ratio, young\"]"
   ]
  },
  {
   "cell_type": "code",
   "execution_count": 282,
   "metadata": {
    "colab": {
     "base_uri": "https://localhost:8080/",
     "height": 358
    },
    "colab_type": "code",
    "executionInfo": {
     "elapsed": 1227,
     "status": "ok",
     "timestamp": 1543478027887,
     "user": {
      "displayName": "Yiu Chung Wong",
      "photoUrl": "",
      "userId": "13387726171847961125"
     },
     "user_tz": -480
    },
    "id": "SPTlSlf7Mk_s",
    "outputId": "5f780749-456f-4295-c951-776058b0579f"
   },
   "outputs": [
    {
     "data": {
      "text/html": [
       "<div>\n",
       "<style scoped>\n",
       "    .dataframe tbody tr th:only-of-type {\n",
       "        vertical-align: middle;\n",
       "    }\n",
       "\n",
       "    .dataframe tbody tr th {\n",
       "        vertical-align: top;\n",
       "    }\n",
       "\n",
       "    .dataframe thead th {\n",
       "        text-align: right;\n",
       "    }\n",
       "</style>\n",
       "<table border=\"1\" class=\"dataframe\">\n",
       "  <thead>\n",
       "    <tr style=\"text-align: right;\">\n",
       "      <th></th>\n",
       "      <th>ARI treatment (% of children und</th>\n",
       "      <th>Adjusted savings: education expe</th>\n",
       "      <th>Adolescent fertility rate (birth</th>\n",
       "      <th>Age dependency ratio, old</th>\n",
       "      <th>Age dependency ratio, young</th>\n",
       "      <th>Agricultural land (% of land are</th>\n",
       "      <th>Birth rate, crude (per 1,000 peo</th>\n",
       "      <th>CPIA gender equality rating (1=l</th>\n",
       "      <th>Central government debt, total (</th>\n",
       "      <th>Children with fever receiving an</th>\n",
       "      <th>...</th>\n",
       "      <th>Life expectancy at birth, total</th>\n",
       "      <th>Mortality rate, infant (per 1,00</th>\n",
       "      <th>Mortality rate, under-5 (per 1,0</th>\n",
       "      <th>Mortality rate, under-5, female</th>\n",
       "      <th>Mortality rate, under-5, male (p</th>\n",
       "      <th>Population growth (annual %)</th>\n",
       "      <th>Immunization, DPT (% of children</th>\n",
       "      <th>Immunization, measles (% of chil</th>\n",
       "      <th>Physicians (per 1,000 people)</th>\n",
       "      <th>Women's share of population ages</th>\n",
       "    </tr>\n",
       "  </thead>\n",
       "  <tbody>\n",
       "    <tr>\n",
       "      <th>0</th>\n",
       "      <td>NaN</td>\n",
       "      <td>NaN</td>\n",
       "      <td>99.095600</td>\n",
       "      <td>4.397600</td>\n",
       "      <td>98.722026</td>\n",
       "      <td>58.123668</td>\n",
       "      <td>37.952</td>\n",
       "      <td>2.0</td>\n",
       "      <td>NaN</td>\n",
       "      <td>NaN</td>\n",
       "      <td>...</td>\n",
       "      <td>59.600098</td>\n",
       "      <td>74.3</td>\n",
       "      <td>103.7</td>\n",
       "      <td>100.4</td>\n",
       "      <td>106.7</td>\n",
       "      <td>2.458417</td>\n",
       "      <td>66.0</td>\n",
       "      <td>62.0</td>\n",
       "      <td>0.194</td>\n",
       "      <td>35.4</td>\n",
       "    </tr>\n",
       "    <tr>\n",
       "      <th>1</th>\n",
       "      <td>NaN</td>\n",
       "      <td>2.842804</td>\n",
       "      <td>16.994600</td>\n",
       "      <td>15.062236</td>\n",
       "      <td>34.036210</td>\n",
       "      <td>43.843066</td>\n",
       "      <td>12.607</td>\n",
       "      <td>NaN</td>\n",
       "      <td>NaN</td>\n",
       "      <td>NaN</td>\n",
       "      <td>...</td>\n",
       "      <td>76.978512</td>\n",
       "      <td>16.1</td>\n",
       "      <td>18.1</td>\n",
       "      <td>16.3</td>\n",
       "      <td>19.7</td>\n",
       "      <td>-0.033072</td>\n",
       "      <td>99.0</td>\n",
       "      <td>99.0</td>\n",
       "      <td>1.153</td>\n",
       "      <td>NaN</td>\n",
       "    </tr>\n",
       "    <tr>\n",
       "      <th>2</th>\n",
       "      <td>NaN</td>\n",
       "      <td>4.467196</td>\n",
       "      <td>9.894599</td>\n",
       "      <td>6.945180</td>\n",
       "      <td>39.796430</td>\n",
       "      <td>17.370914</td>\n",
       "      <td>24.514</td>\n",
       "      <td>NaN</td>\n",
       "      <td>NaN</td>\n",
       "      <td>NaN</td>\n",
       "      <td>...</td>\n",
       "      <td>70.616610</td>\n",
       "      <td>18.4</td>\n",
       "      <td>21.5</td>\n",
       "      <td>19.0</td>\n",
       "      <td>23.8</td>\n",
       "      <td>1.850438</td>\n",
       "      <td>95.0</td>\n",
       "      <td>95.0</td>\n",
       "      <td>1.207</td>\n",
       "      <td>66.4</td>\n",
       "    </tr>\n",
       "    <tr>\n",
       "      <th>3</th>\n",
       "      <td>NaN</td>\n",
       "      <td>NaN</td>\n",
       "      <td>NaN</td>\n",
       "      <td>NaN</td>\n",
       "      <td>NaN</td>\n",
       "      <td>24.500000</td>\n",
       "      <td>NaN</td>\n",
       "      <td>NaN</td>\n",
       "      <td>NaN</td>\n",
       "      <td>NaN</td>\n",
       "      <td>...</td>\n",
       "      <td>NaN</td>\n",
       "      <td>NaN</td>\n",
       "      <td>NaN</td>\n",
       "      <td>NaN</td>\n",
       "      <td>NaN</td>\n",
       "      <td>-1.088667</td>\n",
       "      <td>NaN</td>\n",
       "      <td>NaN</td>\n",
       "      <td>NaN</td>\n",
       "      <td>NaN</td>\n",
       "    </tr>\n",
       "    <tr>\n",
       "      <th>4</th>\n",
       "      <td>NaN</td>\n",
       "      <td>2.889150</td>\n",
       "      <td>NaN</td>\n",
       "      <td>NaN</td>\n",
       "      <td>NaN</td>\n",
       "      <td>42.765957</td>\n",
       "      <td>9.800</td>\n",
       "      <td>NaN</td>\n",
       "      <td>NaN</td>\n",
       "      <td>NaN</td>\n",
       "      <td>...</td>\n",
       "      <td>NaN</td>\n",
       "      <td>2.9</td>\n",
       "      <td>3.5</td>\n",
       "      <td>3.1</td>\n",
       "      <td>3.8</td>\n",
       "      <td>-0.960625</td>\n",
       "      <td>99.0</td>\n",
       "      <td>99.0</td>\n",
       "      <td>3.912</td>\n",
       "      <td>NaN</td>\n",
       "    </tr>\n",
       "  </tbody>\n",
       "</table>\n",
       "<p>5 rows × 32 columns</p>\n",
       "</div>"
      ],
      "text/plain": [
       "   ARI treatment (% of children und  Adjusted savings: education expe  \\\n",
       "0                               NaN                               NaN   \n",
       "1                               NaN                          2.842804   \n",
       "2                               NaN                          4.467196   \n",
       "3                               NaN                               NaN   \n",
       "4                               NaN                          2.889150   \n",
       "\n",
       "   Adolescent fertility rate (birth  Age dependency ratio, old  \\\n",
       "0                         99.095600                   4.397600   \n",
       "1                         16.994600                  15.062236   \n",
       "2                          9.894599                   6.945180   \n",
       "3                               NaN                        NaN   \n",
       "4                               NaN                        NaN   \n",
       "\n",
       "   Age dependency ratio, young  Agricultural land (% of land are  \\\n",
       "0                    98.722026                         58.123668   \n",
       "1                    34.036210                         43.843066   \n",
       "2                    39.796430                         17.370914   \n",
       "3                          NaN                         24.500000   \n",
       "4                          NaN                         42.765957   \n",
       "\n",
       "   Birth rate, crude (per 1,000 peo  CPIA gender equality rating (1=l  \\\n",
       "0                            37.952                               2.0   \n",
       "1                            12.607                               NaN   \n",
       "2                            24.514                               NaN   \n",
       "3                               NaN                               NaN   \n",
       "4                             9.800                               NaN   \n",
       "\n",
       "   Central government debt, total (  Children with fever receiving an  \\\n",
       "0                               NaN                               NaN   \n",
       "1                               NaN                               NaN   \n",
       "2                               NaN                               NaN   \n",
       "3                               NaN                               NaN   \n",
       "4                               NaN                               NaN   \n",
       "\n",
       "                 ...                 Life expectancy at birth, total  \\\n",
       "0                ...                                       59.600098   \n",
       "1                ...                                       76.978512   \n",
       "2                ...                                       70.616610   \n",
       "3                ...                                             NaN   \n",
       "4                ...                                             NaN   \n",
       "\n",
       "   Mortality rate, infant (per 1,00  Mortality rate, under-5 (per 1,0  \\\n",
       "0                              74.3                             103.7   \n",
       "1                              16.1                              18.1   \n",
       "2                              18.4                              21.5   \n",
       "3                               NaN                               NaN   \n",
       "4                               2.9                               3.5   \n",
       "\n",
       "   Mortality rate, under-5, female  Mortality rate, under-5, male (p  \\\n",
       "0                            100.4                             106.7   \n",
       "1                             16.3                              19.7   \n",
       "2                             19.0                              23.8   \n",
       "3                              NaN                               NaN   \n",
       "4                              3.1                               3.8   \n",
       "\n",
       "   Population growth (annual %)  Immunization, DPT (% of children  \\\n",
       "0                      2.458417                              66.0   \n",
       "1                     -0.033072                              99.0   \n",
       "2                      1.850438                              95.0   \n",
       "3                     -1.088667                               NaN   \n",
       "4                     -0.960625                              99.0   \n",
       "\n",
       "   Immunization, measles (% of chil  Physicians (per 1,000 people)  \\\n",
       "0                              62.0                          0.194   \n",
       "1                              99.0                          1.153   \n",
       "2                              95.0                          1.207   \n",
       "3                               NaN                            NaN   \n",
       "4                              99.0                          3.912   \n",
       "\n",
       "   Women's share of population ages  \n",
       "0                              35.4  \n",
       "1                               NaN  \n",
       "2                              66.4  \n",
       "3                               NaN  \n",
       "4                               NaN  \n",
       "\n",
       "[5 rows x 32 columns]"
      ]
     },
     "metadata": {},
     "output_type": "display_data"
    }
   ],
   "source": [
    "show_all = 0\n",
    "if show_all:\n",
    "    with pd.option_context('display.max_rows', None, 'display.max_columns', None):\n",
    "        display(world_bank)\n",
    "else:\n",
    "    display(world_bank.head())"
   ]
  },
  {
   "cell_type": "markdown",
   "metadata": {
    "colab_type": "text",
    "id": "eKwD-4bsvDau"
   },
   "source": [
    "# Missing data\n",
    "\n",
    "---\n",
    "\n",
    "\n",
    "\n",
    "Write a summary based on the comments below"
   ]
  },
  {
   "cell_type": "markdown",
   "metadata": {
    "colab_type": "text",
    "id": "6Kidlni9vDaw"
   },
   "source": [
    "### First remove obviously problematic columns and observations"
   ]
  },
  {
   "cell_type": "code",
   "execution_count": 283,
   "metadata": {
    "colab": {},
    "colab_type": "code",
    "id": "wZTCpGK1vDax"
   },
   "outputs": [],
   "source": [
    "#remove columns with more than 20% Nan\n",
    "na_portion = world_bank.isna().sum() / len(world_bank)\n",
    "world_bank = world_bank.loc[:, na_portion < .2]\n",
    "\n",
    "#remove case where Mortality rate, under-5 (per 1,000 live births) is Nan\n",
    "world_bank = world_bank.loc[world_bank[\"Mortality rate, under-5 (per 1,0\"].notnull(),:] \n",
    "\n",
    "#remove cases where there are 10 or more Nan\n",
    "world_bank = world_bank[world_bank.isnull().sum(axis=1) < 10]"
   ]
  },
  {
   "cell_type": "markdown",
   "metadata": {
    "colab_type": "text",
    "id": "SthnwZqaJtJa"
   },
   "source": [
    "Read [this](https://github.com/ResidentMario/missingno)"
   ]
  },
  {
   "cell_type": "code",
   "execution_count": 284,
   "metadata": {
    "colab": {
     "base_uri": "https://localhost:8080/",
     "height": 685
    },
    "colab_type": "code",
    "executionInfo": {
     "elapsed": 2324,
     "status": "ok",
     "timestamp": 1543478029006,
     "user": {
      "displayName": "Yiu Chung Wong",
      "photoUrl": "",
      "userId": "13387726171847961125"
     },
     "user_tz": -480
    },
    "id": "JLqIFrIcvDa0",
    "outputId": "e74f73db-0c25-40fa-a0d0-37ef30efceed"
   },
   "outputs": [
    {
     "data": {
      "image/png": "[encoded data removed]",
      "text/plain": [
       "<Figure size 1080x576 with 2 Axes>"
      ]
     },
     "metadata": {
      "needs_background": "light"
     },
     "output_type": "display_data"
    }
   ],
   "source": [
    "try:\n",
    "    import missingno as msno\n",
    "except ModuleNotFoundError as no_missingno:\n",
    "    print(no_missingno)\n",
    "    assert CURRENT_OS == \"linux\", \"You are neither on Colab or have fancyimpute installed!!!\"\n",
    "    print(\"Now installing missingno\")\n",
    "    !pip install -q missingno \n",
    "    print(\"Installed!\")\n",
    "    from missingno import msno\n",
    "finally:\n",
    "    missingdata_df = world_bank.columns[world_bank.isnull().any()].tolist()\n",
    "    msno.matrix(world_bank[missingdata_df], figsize=(15,8))"
   ]
  },
  {
   "cell_type": "markdown",
   "metadata": {
    "colab_type": "text",
    "id": "koUNFMh5vDa4"
   },
   "source": [
    "A correlation heatmap is shown below. This map describes the degree of nullity relationship between predictors. The range of this nullity correlation is from -1 to 1 (-1 ≤ R ≤ 1). Features with no missing value are excluded in the heatmap. If the nullity correlation is very close to zero (-0.05 < R < 0.05), no value will be displayed. Also, a perfect positive nullity correlation (R=1) indicates when the first feature and the second feature both have corresponding missing values while a perfect negative nullity correlation (R=-1) means that one of the features is missing and the second is not missing."
   ]
  },
  {
   "cell_type": "code",
   "execution_count": 285,
   "metadata": {
    "colab": {
     "base_uri": "https://localhost:8080/",
     "height": 781
    },
    "colab_type": "code",
    "executionInfo": {
     "elapsed": 3860,
     "status": "ok",
     "timestamp": 1543478030561,
     "user": {
      "displayName": "Yiu Chung Wong",
      "photoUrl": "",
      "userId": "13387726171847961125"
     },
     "user_tz": -480
    },
    "id": "6SR5kcc6vDa5",
    "outputId": "9f18aa98-7a1c-4852-f672-a413090edf9f"
   },
   "outputs": [
    {
     "data": {
      "text/plain": [
       "<matplotlib.axes._subplots.AxesSubplot at 0x1c2fb4ce48>"
      ]
     },
     "execution_count": 285,
     "metadata": {},
     "output_type": "execute_result"
    },
    {
     "data": {
      "image/png": "[encoded data removed]",
      "text/plain": [
       "<Figure size 720x720 with 1 Axes>"
      ]
     },
     "metadata": {
      "needs_background": "light"
     },
     "output_type": "display_data"
    }
   ],
   "source": [
    "msno.heatmap(world_bank[missingdata_df], figsize=(10,10))"
   ]
  },
  {
   "cell_type": "markdown",
   "metadata": {
    "colab_type": "text",
    "id": "NLcDQnZ-vDa9"
   },
   "source": [
    "## Multiple Imputation by Chained Equations (MICE)\n",
    "\n",
    "- Read the following articles,\n",
    "  1. [Multiple Imputation by Chained Equations: What is it and how does it work?](https://www.ncbi.nlm.nih.gov/pmc/articles/PMC3074241/) \n",
    "  1. [Missing Data Conundrum: Exploration and Imputation Techniques](https://medium.com/ibm-data-science-experience/missing-data-conundrum-exploration-and-imputation-techniques-9f40abe0fd87) \n",
    "  1. [Handling Missing Values in Machine Learning: Part 2](https://towardsdatascience.com/handling-missing-values-in-machine-learning-part-2-222154b4b58e)\n",
    "  1. [fancyimpute](https://github.com/iskandr/fancyimpute)\n",
    "\n",
    "- The draw backs of some other imputation techniques that we aren't using (e.g. mean)\n",
    "- What is MICE, what is it trying to achieve\n",
    "- How does MICE work?\n",
    "- In what way does MICE outperform other techniques\n",
    "- Does MICE rely on any assumptions (e.g. missing data are Missing at Random (MAR)好似係，除非唔係)"
   ]
  },
  {
   "cell_type": "code",
   "execution_count": 286,
   "metadata": {
    "colab": {},
    "colab_type": "code",
    "id": "4yU0n-NcvtVf"
   },
   "outputs": [],
   "source": [
    "try:\n",
    "    from fancyimpute import IterativeImputer\n",
    "except ModuleNotFoundError as no_fancyimpute:\n",
    "    print(ModuleNotFoundError)\n",
    "    assert CURRENT_OS == \"linux\", \"You are neither on Colab or have fancyimpute installed!!!\"\n",
    "    print(\"Now installing fancyimpute\")\n",
    "    !pip install -q fancyimpute \n",
    "    from fancyimpute import IterativeImputer\n",
    "finally: \n",
    "    XY_incomplete = world_bank.copy()\n",
    "\n",
    "    #fancy impute removes column names.\n",
    "    train_cols = list(XY_incomplete)\n",
    "\n",
    "    n_imputations = 5 #I wanted to use STAT5102 here, but looping 5102 times takes wayyyyyy too long.\n",
    "    XY_completed = []\n",
    "    for i in range(n_imputations):\n",
    "        imputer = IterativeImputer(n_iter=5, sample_posterior=True, random_state=i)\n",
    "        XY_completed.append(imputer.fit_transform(XY_incomplete))\n",
    "\n",
    "    XY_completed_mean = np.mean(XY_completed, 0)\n",
    "    XY_completed_std = np.std(XY_completed, 0)\n",
    "\n",
    "    worldbank_imputed = pd.DataFrame(XY_completed_mean)\n",
    "    worldbank_imputed.columns = train_cols\n",
    "    assert not(worldbank_imputed.isnull().values.any())"
   ]
  },
  {
   "cell_type": "markdown",
   "metadata": {
    "colab_type": "text",
    "id": "7rBIF3hcMlAA"
   },
   "source": [
    "# Exploratory Data Analysis\n",
    "\n",
    "---"
   ]
  },
  {
   "cell_type": "markdown",
   "metadata": {
    "colab_type": "text",
    "id": "ix6WHlV2Yo7V"
   },
   "source": [
    "## Correlation heatmap"
   ]
  },
  {
   "cell_type": "code",
   "execution_count": 287,
   "metadata": {
    "colab": {
     "base_uri": "https://localhost:8080/",
     "height": 372
    },
    "colab_type": "code",
    "executionInfo": {
     "elapsed": 5044,
     "status": "ok",
     "timestamp": 1543478031848,
     "user": {
      "displayName": "Yiu Chung Wong",
      "photoUrl": "",
      "userId": "13387726171847961125"
     },
     "user_tz": -480
    },
    "id": "55gSAZXiMlAO",
    "outputId": "6639711f-2427-4e8e-f8f9-03cb4cde91b2"
   },
   "outputs": [
    {
     "data": {
      "text/plain": [
       "<matplotlib.image.AxesImage at 0x1c30316a58>"
      ]
     },
     "execution_count": 287,
     "metadata": {},
     "output_type": "execute_result"
    },
    {
     "data": {
      "image/png": "[encoded data removed]",
      "text/plain": [
       "<Figure size 288x288 with 1 Axes>"
      ]
     },
     "metadata": {
      "needs_background": "light"
     },
     "output_type": "display_data"
    }
   ],
   "source": [
    "corr = worldbank_imputed.corr()\n",
    "plt.matshow(worldbank_imputed.corr())"
   ]
  },
  {
   "cell_type": "markdown",
   "metadata": {
    "colab_type": "text",
    "id": "giWrF2SwMlAQ"
   },
   "source": [
    "## Coefficient of Variation\n",
    "\n",
    "Compare spread of each numeric variables\n",
    "\n",
    "What is this part for ????"
   ]
  },
  {
   "cell_type": "code",
   "execution_count": 288,
   "metadata": {
    "colab": {
     "base_uri": "https://localhost:8080/",
     "height": 391
    },
    "colab_type": "code",
    "executionInfo": {
     "elapsed": 5028,
     "status": "ok",
     "timestamp": 1543478031849,
     "user": {
      "displayName": "Yiu Chung Wong",
      "photoUrl": "",
      "userId": "13387726171847961125"
     },
     "user_tz": -480
    },
    "id": "TRaSXOGMMlAR",
    "outputId": "e3112892-69ea-4e54-a854-4d42288eb616"
   },
   "outputs": [
    {
     "data": {
      "text/plain": [
       "Adjusted savings: education expe    0.431773\n",
       "Adolescent fertility rate (birth    0.820008\n",
       "Age dependency ratio, old           0.641521\n",
       "Age dependency ratio, young         0.476919\n",
       "Agricultural land (% of land are    0.555980\n",
       "Birth rate, crude (per 1,000 peo    0.478226\n",
       "Fertility rate, total (births pe    0.504724\n",
       "GDP (constant 2005 US$)             3.901437\n",
       "GDP growth (annual %)               0.928534\n",
       "GDP per capita, PPP (constant 20    1.108000\n",
       "Health expenditure per capita (c    1.746308\n",
       "Health expenditure, public (% of    0.587757\n",
       "Health expenditure, public _0001    0.396292\n",
       "Inflation, GDP deflator (annual     1.069902\n",
       "Life expectancy at birth, female    0.140021\n",
       "Life expectancy at birth, male (    0.130872\n",
       "Life expectancy at birth, total     0.134706\n",
       "Mortality rate, infant (per 1,00    0.921152\n",
       "Mortality rate, under-5 (per 1,0    1.051576\n",
       "Mortality rate, under-5, female     1.076898\n",
       "Mortality rate, under-5, male (p    1.031345\n",
       "Population growth (annual %)        0.957492\n",
       "Immunization, DPT (% of children    0.144805\n",
       "Immunization, measles (% of chil    0.154867\n",
       "dtype: float64"
      ]
     },
     "execution_count": 288,
     "metadata": {},
     "output_type": "execute_result"
    }
   ],
   "source": [
    "np.std(worldbank_imputed)/np.mean(worldbank_imputed)"
   ]
  },
  {
   "cell_type": "markdown",
   "metadata": {
    "colab_type": "text",
    "id": "1F6e6xvdMlAT"
   },
   "source": [
    "Some variables shows extreme variation. e.g. GDP (constant 2005 US$) "
   ]
  },
  {
   "cell_type": "markdown",
   "metadata": {
    "colab_type": "text",
    "id": "RnnCOlxnMlAT"
   },
   "source": [
    "## Plotting distributions of numeric variables\n",
    "\n",
    "我都唔係好知做呢part做乜@@\n"
   ]
  },
  {
   "cell_type": "code",
   "execution_count": 289,
   "metadata": {
    "colab": {
     "base_uri": "https://localhost:8080/",
     "height": 376
    },
    "colab_type": "code",
    "executionInfo": {
     "elapsed": 5228,
     "status": "ok",
     "timestamp": 1543478032066,
     "user": {
      "displayName": "Yiu Chung Wong",
      "photoUrl": "",
      "userId": "13387726171847961125"
     },
     "user_tz": -480
    },
    "id": "JXXgrItsMlAU",
    "outputId": "0c79655b-a8e9-4be6-da7e-72008d305fa3",
    "scrolled": true
   },
   "outputs": [
    {
     "data": {
      "image/png": "[encoded data removed]",
      "text/plain": [
       "<Figure size 432x288 with 2 Axes>"
      ]
     },
     "metadata": {
      "needs_background": "light"
     },
     "output_type": "display_data"
    }
   ],
   "source": [
    "plot_data = worldbank_imputed[\"Adjusted savings: education expe\"].copy()\n",
    "plot_data_log = plot_data.apply(np.log)\n",
    "\n",
    "fig, (ax1, ax2) = plt.subplots(ncols=2, sharey=True)\n",
    "ax1.set_title(\"Non-log\")\n",
    "ax2.set_title(\"Logged\")\n",
    "\n",
    "plot_1 = sns.distplot(plot_data, hist=True, kde=False,\n",
    "                      bins=int(plot_data.shape[0]**.5), \n",
    "                      color = 'blue',\n",
    "                      hist_kws={'edgecolor':'black'},\n",
    "                      ax=ax1)\n",
    "\n",
    "plot_2 = sns.distplot(plot_data_log, hist=True, kde=False,\n",
    "                      bins=int(plot_data_log.shape[0]**.5), \n",
    "                      color = 'blue',\n",
    "                      hist_kws={'edgecolor':'black'},\n",
    "                      ax=ax2)"
   ]
  },
  {
   "cell_type": "markdown",
   "metadata": {
    "colab_type": "text",
    "id": "HKLjFh7TMlAA"
   },
   "source": [
    "# Exploring correlations with OLS regression\n",
    "\n",
    "Not all variables are useful in the dataset. Some might be highly correlated with each other and thus create redundency and colinearity/multicolinearity.\n",
    "\n",
    "Let's start by looking at the response variable, i.e. the Mortality rates"
   ]
  },
  {
   "cell_type": "code",
   "execution_count": 290,
   "metadata": {
    "colab": {
     "base_uri": "https://localhost:8080/",
     "height": 209
    },
    "colab_type": "code",
    "executionInfo": {
     "elapsed": 4195,
     "status": "ok",
     "timestamp": 1543478030943,
     "user": {
      "displayName": "Yiu Chung Wong",
      "photoUrl": "",
      "userId": "13387726171847961125"
     },
     "user_tz": -480
    },
    "id": "jSu3Zv9MMlAB",
    "outputId": "9e5ea7ad-9819-46bd-8914-fc0818efcd8f"
   },
   "outputs": [
    {
     "data": {
      "text/html": [
       "<style  type=\"text/css\" >\n",
       "    #T_267e414c_fca0_11e8_baae_d0a637ec6f3brow0_col0 {\n",
       "            background-color:  #023858;\n",
       "        }    #T_267e414c_fca0_11e8_baae_d0a637ec6f3brow0_col1 {\n",
       "            background-color:  #7eadd1;\n",
       "        }    #T_267e414c_fca0_11e8_baae_d0a637ec6f3brow0_col2 {\n",
       "            background-color:  #7eadd1;\n",
       "        }    #T_267e414c_fca0_11e8_baae_d0a637ec6f3brow0_col3 {\n",
       "            background-color:  #7eadd1;\n",
       "        }    #T_267e414c_fca0_11e8_baae_d0a637ec6f3brow1_col0 {\n",
       "            background-color:  #5ea0ca;\n",
       "        }    #T_267e414c_fca0_11e8_baae_d0a637ec6f3brow1_col1 {\n",
       "            background-color:  #023858;\n",
       "        }    #T_267e414c_fca0_11e8_baae_d0a637ec6f3brow1_col2 {\n",
       "            background-color:  #023b5d;\n",
       "        }    #T_267e414c_fca0_11e8_baae_d0a637ec6f3brow1_col3 {\n",
       "            background-color:  #023b5d;\n",
       "        }    #T_267e414c_fca0_11e8_baae_d0a637ec6f3brow2_col0 {\n",
       "            background-color:  #7eadd1;\n",
       "        }    #T_267e414c_fca0_11e8_baae_d0a637ec6f3brow2_col1 {\n",
       "            background-color:  #023b5d;\n",
       "        }    #T_267e414c_fca0_11e8_baae_d0a637ec6f3brow2_col2 {\n",
       "            background-color:  #023858;\n",
       "        }    #T_267e414c_fca0_11e8_baae_d0a637ec6f3brow2_col3 {\n",
       "            background-color:  #03476f;\n",
       "        }    #T_267e414c_fca0_11e8_baae_d0a637ec6f3brow3_col0 {\n",
       "            background-color:  #4897c4;\n",
       "        }    #T_267e414c_fca0_11e8_baae_d0a637ec6f3brow3_col1 {\n",
       "            background-color:  #023a5b;\n",
       "        }    #T_267e414c_fca0_11e8_baae_d0a637ec6f3brow3_col2 {\n",
       "            background-color:  #03446a;\n",
       "        }    #T_267e414c_fca0_11e8_baae_d0a637ec6f3brow3_col3 {\n",
       "            background-color:  #023858;\n",
       "        }</style>  \n",
       "<table id=\"T_267e414c_fca0_11e8_baae_d0a637ec6f3b\" > \n",
       "<thead>    <tr> \n",
       "        <th class=\"blank level0\" ></th> \n",
       "        <th class=\"col_heading level0 col0\" >Mortality rate, infant (per 1,00</th> \n",
       "        <th class=\"col_heading level0 col1\" >Mortality rate, under-5 (per 1,0</th> \n",
       "        <th class=\"col_heading level0 col2\" >Mortality rate, under-5, female</th> \n",
       "        <th class=\"col_heading level0 col3\" >Mortality rate, under-5, male (p</th> \n",
       "    </tr></thead> \n",
       "<tbody>    <tr> \n",
       "        <th id=\"T_267e414c_fca0_11e8_baae_d0a637ec6f3blevel0_row0\" class=\"row_heading level0 row0\" >Mortality rate, infant (per 1,00</th> \n",
       "        <td id=\"T_267e414c_fca0_11e8_baae_d0a637ec6f3brow0_col0\" class=\"data row0 col0\" >1</td> \n",
       "        <td id=\"T_267e414c_fca0_11e8_baae_d0a637ec6f3brow0_col1\" class=\"data row0 col1\" >0.984823</td> \n",
       "        <td id=\"T_267e414c_fca0_11e8_baae_d0a637ec6f3brow0_col2\" class=\"data row0 col2\" >0.982466</td> \n",
       "        <td id=\"T_267e414c_fca0_11e8_baae_d0a637ec6f3brow0_col3\" class=\"data row0 col3\" >0.986222</td> \n",
       "    </tr>    <tr> \n",
       "        <th id=\"T_267e414c_fca0_11e8_baae_d0a637ec6f3blevel0_row1\" class=\"row_heading level0 row1\" >Mortality rate, under-5 (per 1,0</th> \n",
       "        <td id=\"T_267e414c_fca0_11e8_baae_d0a637ec6f3brow1_col0\" class=\"data row1 col0\" >0.984823</td> \n",
       "        <td id=\"T_267e414c_fca0_11e8_baae_d0a637ec6f3brow1_col1\" class=\"data row1 col1\" >1</td> \n",
       "        <td id=\"T_267e414c_fca0_11e8_baae_d0a637ec6f3brow1_col2\" class=\"data row1 col2\" >0.999566</td> \n",
       "        <td id=\"T_267e414c_fca0_11e8_baae_d0a637ec6f3brow1_col3\" class=\"data row1 col3\" >0.99968</td> \n",
       "    </tr>    <tr> \n",
       "        <th id=\"T_267e414c_fca0_11e8_baae_d0a637ec6f3blevel0_row2\" class=\"row_heading level0 row2\" >Mortality rate, under-5, female</th> \n",
       "        <td id=\"T_267e414c_fca0_11e8_baae_d0a637ec6f3brow2_col0\" class=\"data row2 col0\" >0.982466</td> \n",
       "        <td id=\"T_267e414c_fca0_11e8_baae_d0a637ec6f3brow2_col1\" class=\"data row2 col1\" >0.999566</td> \n",
       "        <td id=\"T_267e414c_fca0_11e8_baae_d0a637ec6f3brow2_col2\" class=\"data row2 col2\" >1</td> \n",
       "        <td id=\"T_267e414c_fca0_11e8_baae_d0a637ec6f3brow2_col3\" class=\"data row2 col3\" >0.998505</td> \n",
       "    </tr>    <tr> \n",
       "        <th id=\"T_267e414c_fca0_11e8_baae_d0a637ec6f3blevel0_row3\" class=\"row_heading level0 row3\" >Mortality rate, under-5, male (p</th> \n",
       "        <td id=\"T_267e414c_fca0_11e8_baae_d0a637ec6f3brow3_col0\" class=\"data row3 col0\" >0.986222</td> \n",
       "        <td id=\"T_267e414c_fca0_11e8_baae_d0a637ec6f3brow3_col1\" class=\"data row3 col1\" >0.99968</td> \n",
       "        <td id=\"T_267e414c_fca0_11e8_baae_d0a637ec6f3brow3_col2\" class=\"data row3 col2\" >0.998505</td> \n",
       "        <td id=\"T_267e414c_fca0_11e8_baae_d0a637ec6f3brow3_col3\" class=\"data row3 col3\" >1</td> \n",
       "    </tr></tbody> \n",
       "</table> "
      ],
      "text/plain": [
       "<pandas.io.formats.style.Styler at 0x1c302c9278>"
      ]
     },
     "execution_count": 290,
     "metadata": {},
     "output_type": "execute_result"
    }
   ],
   "source": [
    "mortality_rates = list(worldbank_imputed.columns)\n",
    "mortality_rates = [item for item in mortality_rates if item.startswith('Mortality')]\n",
    "corr = worldbank_imputed[mortality_rates].corr()\n",
    "corr.style.background_gradient(low=.9)"
   ]
  },
  {
   "cell_type": "markdown",
   "metadata": {
    "colab_type": "text",
    "id": "0TKE97o8MlAD"
   },
   "source": [
    "We see that everything is highly corrrelated; they are essentially the same measure. Highly correlated predictors can lead to instability in our estimator, as well as increased variance. \n",
    "\n",
    "Not only do these variables covary, their vaule are also extremely close to each other. It is very tempting for us to just use a single one of these variables to predict our response variable. Let's do this and see what's gonna happen if we just pick one of these predictors to predict Mortality rate, under-5 (per 1,000 births)? Here we use Mortality rate, infant (per 1,000 births)."
   ]
  },
  {
   "cell_type": "code",
   "execution_count": 291,
   "metadata": {
    "colab": {
     "base_uri": "https://localhost:8080/",
     "height": 418
    },
    "colab_type": "code",
    "executionInfo": {
     "elapsed": 4697,
     "status": "ok",
     "timestamp": 1543478031462,
     "user": {
      "displayName": "Yiu Chung Wong",
      "photoUrl": "",
      "userId": "13387726171847961125"
     },
     "user_tz": -480
    },
    "id": "uq4qbz-rMlAE",
    "outputId": "fe6eb069-9fcd-4f03-d5c9-b7b33353a13c"
   },
   "outputs": [],
   "source": [
    "from sklearn import linear_model\n",
    "from sklearn.model_selection import train_test_split\n",
    "\n",
    "X_train, X_test, y_train, y_test = train_test_split(worldbank_imputed[\"Mortality rate, infant (per 1,00\"].values, \n",
    "                                                    worldbank_imputed[\"Mortality rate, under-5 (per 1,0\"].values, \n",
    "                                                    test_size=0.2, \n",
    "                                                    random_state = STAT5102)\n",
    "\n",
    "X_train = X_train.reshape(-1, 1)\n",
    "X_test = X_test.reshape(-1, 1)\n",
    "y_train = y_train.reshape(-1, 1)\n",
    "y_test = y_test.reshape(-1, 1)\n",
    "\n",
    "lm = linear_model.LinearRegression()\n",
    "lm.fit(X_train, y_train)\n",
    "#fitted_values = lm.predict(X_test)\n",
    "#residuals = y_test - fitted_values\n",
    "fitted_values = lm.predict(X_train)\n",
    "residuals = y_train - fitted_values\n",
    "residuals = residuals.flatten()"
   ]
  },
  {
   "cell_type": "code",
   "execution_count": 292,
   "metadata": {},
   "outputs": [
    {
     "data": {
      "image/png": "[encoded data removed]",
      "text/plain": [
       "<Figure size 864x432 with 3 Axes>"
      ]
     },
     "metadata": {
      "needs_background": "light"
     },
     "output_type": "display_data"
    },
    {
     "name": "stdout",
     "output_type": "stream",
     "text": [
      "Test R^2: 0.9135548398062148\n",
      "Test MSE: 170.45053717818647\n"
     ]
    }
   ],
   "source": [
    "import statsmodels.api as sm\n",
    "from sklearn.metrics import mean_squared_error\n",
    "\n",
    "fig = plt.figure(figsize = (12,6))\n",
    "ax1 = plt.subplot(221)\n",
    "ax2 = plt.subplot(222)\n",
    "ax3 = plt.subplot(212)\n",
    "\n",
    "ax1.scatter(y_train, fitted_values)\n",
    "ax1.set_xlabel(\"True Values\")\n",
    "ax1.set_ylabel(\"Predictions\")\n",
    "ax1.set_title(\"True Values v.s. Predictions\")\n",
    "\n",
    "ax2.scatter(fitted_values, residuals)\n",
    "ax2.axhline(y = 0, color='r', linestyle = '--')\n",
    "ax2.set_xlabel(\"Fitted values\")\n",
    "ax2.set_ylabel(\"Residual\")\n",
    "ax2.set_title(\"Residual Plot\")\n",
    "\n",
    "\n",
    "sm.qqplot(residuals, line='s', ax=ax3, fit=True)\n",
    "\n",
    "plt.tight_layout()\n",
    "plt.show()\n",
    "\n",
    "print(\"Test R^2: \" + str(lm.score(X = X_test, y = y_test)))\n",
    "print(\"Test MSE: \" + str(calculate_mse(y_test, lm.predict(X_test), X_test.shape[0], X_test.shape[1])))"
   ]
  },
  {
   "cell_type": "markdown",
   "metadata": {},
   "source": [
    "### Normality Test\n",
    "\n",
    "The residual plot is showing some mild fan shape pattern: the error does not remain constant along with the fitted values. This suggests either heteroscedasticity and/or nonlinear relationship between predictor and outcome. Let's perform a normality test for more percise asumption checking."
   ]
  },
  {
   "cell_type": "code",
   "execution_count": 293,
   "metadata": {},
   "outputs": [
    {
     "name": "stdout",
     "output_type": "stream",
     "text": [
      "Statistics=0.92766, p=6.8497e-07\n",
      "Sample does not look Gaussian (reject H0)\n"
     ]
    }
   ],
   "source": [
    "from scipy.stats import shapiro\n",
    "\n",
    "# normality test\n",
    "stat, p = shapiro(residuals)\n",
    "print(f'Statistics={stat:.5}, p={p:.5}')\n",
    "# interpret\n",
    "alpha = 0.05\n",
    "if p > alpha:\n",
    "    print('Sample looks Gaussian (fail to reject H0)')\n",
    "else:\n",
    "    print('Sample does not look Gaussian (reject H0)')"
   ]
  },
  {
   "cell_type": "code",
   "execution_count": 294,
   "metadata": {},
   "outputs": [
    {
     "name": "stdout",
     "output_type": "stream",
     "text": [
      "Statistics=0.36115, p=0.0\n",
      "Sample does not look Gaussian (reject H0)\n"
     ]
    }
   ],
   "source": [
    "from scipy.stats import kstest\n",
    "\n",
    "stat, p = kstest(residuals, 'norm')\n",
    "print(f'Statistics={stat:.5}, p={p:.5}')\n",
    "alpha = 0.05\n",
    "if p > alpha:\n",
    "    print('Sample looks Gaussian (fail to reject H0)')\n",
    "else:\n",
    "    print('Sample does not look Gaussian (reject H0)')"
   ]
  },
  {
   "cell_type": "code",
   "execution_count": 295,
   "metadata": {},
   "outputs": [
    {
     "name": "stdout",
     "output_type": "stream",
     "text": [
      "Statistic: 2.1766592090204426\n",
      "Alpha at 0.15; Critical Value is:  0.562, data does not look Gaussian (reject H0)\n",
      "Alpha at 0.1; Critical Value is:  0.64, data does not look Gaussian (reject H0)\n",
      "Alpha at 0.05; Critical Value is:  0.767, data does not look Gaussian (reject H0)\n",
      "Alpha at 0.025; Critical Value is:  0.895, data does not look Gaussian (reject H0)\n",
      "Alpha at 0.01; Critical Value is:  1.065, data looks Gaussian (fail to reject H0)\n"
     ]
    }
   ],
   "source": [
    "from scipy.stats import anderson\n",
    "\n",
    "result = anderson(residuals, dist='norm')\n",
    "print(f'Statistic: {result.statistic}')\n",
    "p = 0\n",
    "for i in range(len(result.critical_values)):\n",
    "    sl, cv = result.significance_level[i], result.critical_values[i]\n",
    "    if result.statistic.any() < result.critical_values[i]:\n",
    "        print(f'Alpha at {sl/100}; Critical Value is:  {cv}, data looks Gaussian (fail to reject H0)')\n",
    "    else:\n",
    "        print(f'Alpha at {sl/100}; Critical Value is:  {cv}, data does not look Gaussian (reject H0)')"
   ]
  },
  {
   "cell_type": "markdown",
   "metadata": {},
   "source": [
    "### Heteroskedasticity test"
   ]
  },
  {
   "cell_type": "code",
   "execution_count": 296,
   "metadata": {},
   "outputs": [
    {
     "name": "stdout",
     "output_type": "stream",
     "text": [
      "F-Statistics = 65.513, p = 1.8837e-13\n",
      "Variance does not look constant (reject H0)\n"
     ]
    }
   ],
   "source": [
    "from statsmodels.stats.diagnostic import het_breuschpagan\n",
    "lm, lm_pvalue, fvalue, f_pvalue = het_breuschpagan(residuals, fitted_values)\n",
    "print(f'F-Statistics = {fvalue:.5}, p = {f_pvalue:.5}')\n",
    "alpha = 0.05\n",
    "if p > alpha:\n",
    "    print('Variance looks constant (fail to reject H0)')\n",
    "else:\n",
    "    print('Variance does not look constant (reject H0)')"
   ]
  },
  {
   "cell_type": "markdown",
   "metadata": {
    "colab_type": "text",
    "id": "Hm_AF8e8MlAI"
   },
   "source": [
    "Only under alpha level 0.01 in the Anderson-Darling test do we fail the reject the Normality assumption. \n",
    "\n",
    "The bottom line is, we cannot use Simple Linear Regression (OLS) simply because high correlation between predictor and outcome. We will not further investigate OLS in this report. \n",
    "\n",
    "How about the other two mortality indicators? After some eyeball investigation, it is not difficult to see that our response variable is merely the average of Male/Female mortality rate. Hence we will not include these two into our analysis because they are essentially the same thing as our response variable; they should not be included in any formal analysis because one could argue that this is a form of data leakage. However, it might be interesting to see how the DIFFERENCE in Male/Female mortality rate affects our response variable. Therefore we can consider adding the DIFFERENCE in Male/Female mortality rate into our dataset.\n",
    "\n",
    "Finally, because of the following:\n",
    "- infant mortality rate is highly correlated to our response\n",
    "- they are measured in the same unit\n",
    "- almost no difference in absolute value\n",
    "- domain knowledge tell us that they are indeed almost the same measure\n",
    "\n",
    "we decide to remove infant mortality rate."
   ]
  },
  {
   "cell_type": "code",
   "execution_count": 297,
   "metadata": {
    "colab": {},
    "colab_type": "code",
    "id": "A5aYDtUEMlAJ"
   },
   "outputs": [],
   "source": [
    "Mortality_gender_diff = (worldbank_imputed[\"Mortality rate, under-5, male (p\"] -\n",
    "                         worldbank_imputed[\"Mortality rate, under-5, female\"])\n",
    "#add gender difference\n",
    "worldbank_imputed.insert(21, \"Mortality rate, under-5, Gender Difference\", Mortality_gender_diff) \n",
    "#remove mortality rate for male and female\n",
    "worldbank_imputed.drop([\"Mortality rate, under-5, male (p\", \"Mortality rate, under-5, female\"], axis=1,inplace=True)\n",
    "#remove infant mortality rate\n",
    "worldbank_imputed.drop([\"Mortality rate, infant (per 1,00\"], axis = 1, inplace = True)\n"
   ]
  },
  {
   "cell_type": "code",
   "execution_count": 298,
   "metadata": {
    "colab": {},
    "colab_type": "code",
    "id": "Hx5HNm1XMlAL"
   },
   "outputs": [],
   "source": [
    "#do the same thing for Life expectancy \n",
    "Life_expt_gender_diff = (worldbank_imputed[\"Life expectancy at birth, female\"] -\n",
    "                         worldbank_imputed[\"Life expectancy at birth, male (\"])\n",
    "#add gender difference\n",
    "worldbank_imputed.insert(16, \"Life expectancy at birth, Gender Difference\", Life_expt_gender_diff) \n",
    "#remove Life expectency for male and female\n",
    "worldbank_imputed.drop([\"Life expectancy at birth, female\", \"Life expectancy at birth, male (\"], axis=1,inplace=True)"
   ]
  },
  {
   "cell_type": "code",
   "execution_count": 299,
   "metadata": {
    "colab": {},
    "colab_type": "code",
    "id": "o0FxwwRpMk_y"
   },
   "outputs": [],
   "source": [
    "#export world_bank to excel file to share with groupmates (19 Nov 2018)\n",
    "share = 0\n",
    "if share:\n",
    "    writer = pd.ExcelWriter('worldbank_imputed.xlsx')\n",
    "    worldbank_imputed.to_excel(writer, 'Sheet1')\n",
    "    writer.save()"
   ]
  },
  {
   "cell_type": "code",
   "execution_count": 300,
   "metadata": {
    "colab": {},
    "colab_type": "code",
    "id": "AMWkDb-gaeJ5"
   },
   "outputs": [],
   "source": [
    "#!pip install -q openpyxl"
   ]
  },
  {
   "cell_type": "code",
   "execution_count": 301,
   "metadata": {},
   "outputs": [],
   "source": [
    "#Remove outliner"
   ]
  },
  {
   "cell_type": "markdown",
   "metadata": {},
   "source": [
    "# Multiple Regression\n",
    "\n",
    "Perhapes a set of predictor variables can better explain the variations in Mortality rate?"
   ]
  },
  {
   "cell_type": "code",
   "execution_count": 302,
   "metadata": {},
   "outputs": [],
   "source": [
    "multi_reg_data = worldbank_imputed.copy()\n",
    "X_train, X_test, y_train, y_test = train_test_split(multi_reg_data.drop(\"Mortality rate, under-5 (per 1,0\", axis=1), \n",
    "                                                    multi_reg_data[\"Mortality rate, under-5 (per 1,0\"].values, \n",
    "                                                    test_size=0.2, \n",
    "                                                    random_state = STAT5102)\n",
    "\n",
    "y_train = y_train.reshape(-1, 1)\n",
    "y_test = y_test.reshape(-1, 1)\n",
    "\n",
    "lm = linear_model.LinearRegression()\n",
    "lm.fit(X_train, y_train)\n",
    "# fitted_values = lm.predict(X_test)\n",
    "# residuals = y_test - fitted_values\n",
    "# residuals = residuals.flatten()\n",
    "fitted_values = lm.predict(X_train)\n",
    "residuals = y_train - fitted_values\n",
    "residuals = residuals.flatten()"
   ]
  },
  {
   "cell_type": "code",
   "execution_count": 303,
   "metadata": {},
   "outputs": [
    {
     "data": {
      "text/plain": [
       "array([[<matplotlib.axes._subplots.AxesSubplot object at 0x1c2c69ac50>]],\n",
       "      dtype=object)"
      ]
     },
     "execution_count": 303,
     "metadata": {},
     "output_type": "execute_result"
    },
    {
     "data": {
      "image/png": "[encoded data removed]",
      "text/plain": [
       "<Figure size 432x288 with 1 Axes>"
      ]
     },
     "metadata": {
      "needs_background": "light"
     },
     "output_type": "display_data"
    }
   ],
   "source": [
    "pd.DataFrame(fitted_values).hist()"
   ]
  },
  {
   "cell_type": "code",
   "execution_count": 304,
   "metadata": {},
   "outputs": [
    {
     "data": {
      "image/png": "[encoded data removed]",
      "text/plain": [
       "<Figure size 864x432 with 3 Axes>"
      ]
     },
     "metadata": {
      "needs_background": "light"
     },
     "output_type": "display_data"
    },
    {
     "name": "stdout",
     "output_type": "stream",
     "text": [
      "Test R^2: 0.7682873054946006\n",
      "Test MSE: 967.5225540425291\n"
     ]
    }
   ],
   "source": [
    "fig = plt.figure(figsize = (12,6))\n",
    "ax1 = plt.subplot(221)\n",
    "ax2 = plt.subplot(222)\n",
    "ax3 = plt.subplot(212)\n",
    "\n",
    "ax1.scatter(y_train, fitted_values)\n",
    "ax1.set_xlabel(\"True Values\")\n",
    "ax1.set_ylabel(\"Predictions\")\n",
    "ax1.set_title(\"True Values v.s. Predictions\")\n",
    "\n",
    "ax2.scatter(fitted_values, residuals)\n",
    "ax2.axhline(y = 0, color='r', linestyle = '--')\n",
    "ax2.set_xlabel(\"Fitted values\")\n",
    "ax2.set_ylabel(\"Residual\")\n",
    "ax2.set_title(\"Residual Plot\")\n",
    "\n",
    "sm.qqplot(residuals, line='s', ax=ax3, fit=True)\n",
    "\n",
    "plt.tight_layout()\n",
    "plt.show()\n",
    "\n",
    "print(\"Test R^2: \" + str(lm.score(X = X_test, y = y_test)))\n",
    "print(\"Test MSE: \" + str(calculate_mse(y_test, lm.predict(X_test), X_test.shape[0], X_test.shape[1])))"
   ]
  },
  {
   "cell_type": "markdown",
   "metadata": {},
   "source": [
    "### Normality Tests"
   ]
  },
  {
   "cell_type": "code",
   "execution_count": 305,
   "metadata": {},
   "outputs": [
    {
     "name": "stdout",
     "output_type": "stream",
     "text": [
      "Statistics=0.90059, p=1.4284e-08\n",
      "Sample does not look Gaussian (reject H0)\n"
     ]
    }
   ],
   "source": [
    "stat, p = shapiro(residuals)\n",
    "print(f'Statistics={stat:.5}, p={p:.5}')\n",
    "# interpret\n",
    "alpha = 0.05\n",
    "if p > alpha:\n",
    "    print('Sample looks Gaussian (fail to reject H0)')\n",
    "else:\n",
    "    print('Sample does not look Gaussian (reject H0)')"
   ]
  },
  {
   "cell_type": "code",
   "execution_count": 306,
   "metadata": {},
   "outputs": [
    {
     "name": "stdout",
     "output_type": "stream",
     "text": [
      "Statistics=0.39621, p=0.0\n",
      "Sample does not look Gaussian (reject H0)\n"
     ]
    }
   ],
   "source": [
    "stat, p = kstest(residuals, 'norm')\n",
    "print(f'Statistics={stat:.5}, p={p:.5}')\n",
    "alpha = 0.05\n",
    "if p > alpha:\n",
    "    print('Sample looks Gaussian (fail to reject H0)')\n",
    "else:\n",
    "    print('Sample does not look Gaussian (reject H0)')"
   ]
  },
  {
   "cell_type": "code",
   "execution_count": 307,
   "metadata": {},
   "outputs": [
    {
     "name": "stdout",
     "output_type": "stream",
     "text": [
      "Statistic: 3.4012692137765157\n",
      "Alpha at 0.15; Critical Value is: 0.562, data does not look Gaussian (reject H0)\n",
      "Alpha at 0.1; Critical Value is: 0.64, data does not look Gaussian (reject H0)\n",
      "Alpha at 0.05; Critical Value is: 0.767, data does not look Gaussian (reject H0)\n",
      "Alpha at 0.025; Critical Value is: 0.895, data does not look Gaussian (reject H0)\n",
      "Alpha at 0.01: Critical Value is: 1.065, data looks Gaussian (fail to reject H0)\n"
     ]
    }
   ],
   "source": [
    "result = anderson(residuals, dist='norm')\n",
    "print(f'Statistic: {result.statistic}')\n",
    "p = 0\n",
    "for i in range(len(result.critical_values)):\n",
    "    sl, cv = result.significance_level[i], result.critical_values[i]\n",
    "    if result.statistic.any() < result.critical_values[i]:\n",
    "        print(f'Alpha at {sl/100}: Critical Value is: {cv}, data looks Gaussian (fail to reject H0)')\n",
    "    else:\n",
    "        print(f'Alpha at {sl/100}; Critical Value is: {cv}, data does not look Gaussian (reject H0)')"
   ]
  },
  {
   "cell_type": "markdown",
   "metadata": {},
   "source": [
    "Other than setting alpha at 0.01 in an Anderson-Darling test, every other tests yields result suggesting non-normality in the residuals. "
   ]
  },
  {
   "cell_type": "markdown",
   "metadata": {},
   "source": [
    "### Heteroskedasticity test\n"
   ]
  },
  {
   "cell_type": "code",
   "execution_count": 308,
   "metadata": {},
   "outputs": [
    {
     "name": "stdout",
     "output_type": "stream",
     "text": [
      "F-Statistics = 53.23, p = 1.6351e-11\n",
      "Variance does not look constant (reject H0)\n"
     ]
    }
   ],
   "source": [
    "lm, lm_pvalue, fvalue, f_pvalue = het_breuschpagan(residuals, fitted_values)\n",
    "print(f'F-Statistics = {fvalue:.5}, p = {f_pvalue:.5}')\n",
    "alpha = 0.05\n",
    "if p > alpha:\n",
    "    print('Variance looks constant (fail to reject H0)')\n",
    "else:\n",
    "    print('Variance does not look constant (reject H0)')"
   ]
  },
  {
   "cell_type": "markdown",
   "metadata": {},
   "source": [
    "We have to consider transforming our data. "
   ]
  },
  {
   "cell_type": "markdown",
   "metadata": {
    "colab_type": "text",
    "id": "wnF6Kf4sMk_1"
   },
   "source": [
    "# Regression Model\n",
    "\n",
    "---\n",
    "\n",
    "The work above are of exploratory nature. We found that both OLS and multiple regression result in residuals that are both heteroskedastic and non Gaussian. We must perform transformation.\n",
    "\n",
    "The following is our current regression model:\n",
    "\n",
    "\\begin{equation}\n",
    "Y = \\beta_0 + \\beta_1 X_1 + ... + \\beta_p X_p + \\epsilon\n",
    "\\end{equation}\n",
    "\n",
    "where \n",
    "\n",
    "\\begin{equation}\n",
    "\\epsilon \\sim N(\\mu,\\sigma^2)\n",
    "\\end{equation}\n",
    "\n",
    "We are regressing a continous variable Y on a set of Xs. The model assumes Y to be the sum of all Xs multiplied by their corrosponding coefficients, plus random normal error. This model works well if we can plug in numbers on the Right Hand Side(RHS) and get the corrosponding value on the Left Hand Side (LHS). The regression model shown above relies heavily on two assumptions:\n",
    "\n",
    "- Constant Error terms\n",
    "- Gaussian in Error terms\n",
    "- LHS of the model be strictly positive.\n",
    "\n",
    "We have already concluded we failed to obtain constant and Gaussian error terms.\n",
    "\n",
    "Note that the sum on the RHS can sometimes be negative depending on the input and coefficients. Unfortunately, our response variable, Mortality rate, under-5 (per 1,000 births), can not take negative values; our model is broken when ever the sum on of the RHS comes out negative. \n",
    "\n",
    "Because of this, we perform a log transformation on the response variable. \n",
    "\n",
    "\\begin{equation}\n",
    "\\log(Y) = \\beta_0 + \\beta_1 X_1 + ... + \\beta_p X_p + \\epsilon\n",
    "\\end{equation}\n",
    "\n",
    "With a log transformation on the response variable, values on both sides of the equation may take negative values, and we are no longer restricted by the fact that the response can only take positive values. **呢part寫多兩句**....."
   ]
  },
  {
   "cell_type": "markdown",
   "metadata": {
    "colab_type": "text",
    "id": "qBwXCpyBMk_3"
   },
   "source": [
    "To confirm our choice of transformation, we perform a Box-Cox power transformation, and find the lambda parameter that maximises the log-likelihood function."
   ]
  },
  {
   "cell_type": "code",
   "execution_count": 309,
   "metadata": {
    "colab": {
     "base_uri": "https://localhost:8080/",
     "height": 34
    },
    "colab_type": "code",
    "executionInfo": {
     "elapsed": 4218,
     "status": "ok",
     "timestamp": 1543478030942,
     "user": {
      "displayName": "Yiu Chung Wong",
      "photoUrl": "",
      "userId": "13387726171847961125"
     },
     "user_tz": -480
    },
    "id": "dX9vnGFQMk_4",
    "outputId": "119a29ca-98b4-4a6f-821e-cadefbcfa83e"
   },
   "outputs": [
    {
     "name": "stdout",
     "output_type": "stream",
     "text": [
      "The lambda parameter that maximises the log-likelihood function is:  0.011172997239718391\n"
     ]
    }
   ],
   "source": [
    "boxcox_lambda = scipy.stats.boxcox(worldbank_imputed[\"Mortality rate, under-5 (per 1,0\"].copy())[1]\n",
    "print(\"The lambda parameter that maximises the log-likelihood function is: \", boxcox_lambda)"
   ]
  },
  {
   "cell_type": "markdown",
   "metadata": {
    "colab_type": "text",
    "id": "1SFjwLATMk_9"
   },
   "source": [
    "Choosing a simple power transformation, we come to the conclusion that log transformation will best transform our data to normality."
   ]
  },
  {
   "cell_type": "code",
   "execution_count": 310,
   "metadata": {
    "colab": {},
    "colab_type": "code",
    "id": "OD-WTBdCMk_-"
   },
   "outputs": [],
   "source": [
    "#worldbank_imputed[\"Mortality rate, under-5 (per 1,0\"] = worldbank_imputed[\"Mortality rate, under-5 (per 1,0\"].apply(np.log)"
   ]
  },
  {
   "cell_type": "markdown",
   "metadata": {},
   "source": [
    "# Multiple Regression with transformed response variable\n",
    "---\n",
    "\n",
    "let's do this again."
   ]
  },
  {
   "cell_type": "code",
   "execution_count": 311,
   "metadata": {},
   "outputs": [],
   "source": [
    "log_multi_reg_data = worldbank_imputed.copy()\n",
    "log_multi_reg_data[\"Mortality rate, under-5 (per 1,0\"] = log_multi_reg_data[\"Mortality rate, under-5 (per 1,0\"].apply(np.log)\n",
    "X_train, X_test, y_train, y_test = train_test_split(log_multi_reg_data.drop(\"Mortality rate, under-5 (per 1,0\", axis=1), \n",
    "                                                    log_multi_reg_data[\"Mortality rate, under-5 (per 1,0\"].values, \n",
    "                                                    test_size=0.2, \n",
    "                                                    random_state = STAT5102)\n",
    "\n",
    "y_train = y_train.reshape(-1, 1)\n",
    "y_test = y_test.reshape(-1, 1)\n",
    "\n",
    "lm = linear_model.LinearRegression()\n",
    "lm.fit(X_train, y_train)\n",
    "# fitted_values = lm.predict(X_test)\n",
    "# residuals = y_test - fitted_values\n",
    "# residuals = residuals.flatten()\n",
    "\n",
    "fitted_values = lm.predict(X_train)\n",
    "residuals = y_train - fitted_values\n",
    "residuals = residuals.flatten()"
   ]
  },
  {
   "cell_type": "code",
   "execution_count": 312,
   "metadata": {},
   "outputs": [
    {
     "data": {
      "image/png": "[encoded data removed]",
      "text/plain": [
       "<Figure size 864x432 with 3 Axes>"
      ]
     },
     "metadata": {
      "needs_background": "light"
     },
     "output_type": "display_data"
    },
    {
     "name": "stdout",
     "output_type": "stream",
     "text": [
      "Test R^2: 0.9374485589812057\n",
      "Test MSE: 0.18404331592303552\n"
     ]
    }
   ],
   "source": [
    "fig = plt.figure(figsize = (12,6))\n",
    "ax1 = plt.subplot(221)\n",
    "ax2 = plt.subplot(222)\n",
    "ax3 = plt.subplot(212)\n",
    "\n",
    "ax1.scatter(y_train, fitted_values)\n",
    "ax1.set_xlabel(\"True Values\")\n",
    "ax1.set_ylabel(\"Predictions\")\n",
    "ax1.set_title(\"True Values v.s. Predictions\")\n",
    "\n",
    "ax2.scatter(fitted_values, residuals)\n",
    "ax2.axhline(y = 0, color='r', linestyle = '--')\n",
    "ax2.set_xlabel(\"Fitted values\")\n",
    "ax2.set_ylabel(\"Residual\")\n",
    "ax2.set_title(\"Residual Plot\")\n",
    "\n",
    "sm.qqplot(residuals, line='s', ax=ax3, fit=True)\n",
    "\n",
    "plt.tight_layout()\n",
    "plt.show()\n",
    "\n",
    "print(\"Test R^2: \" + str(lm.score(X = X_test, y = y_test)))\n",
    "print(\"Test MSE: \" + str(calculate_mse(y_test, lm.predict(X_test), X_test.shape[0], X_test.shape[1])))"
   ]
  },
  {
   "cell_type": "markdown",
   "metadata": {},
   "source": [
    "### Normality Tests"
   ]
  },
  {
   "cell_type": "code",
   "execution_count": 313,
   "metadata": {},
   "outputs": [
    {
     "name": "stdout",
     "output_type": "stream",
     "text": [
      "Statistics=0.97344, p=0.0052698\n",
      "Sample does not look Gaussian (reject H0)\n"
     ]
    }
   ],
   "source": [
    "stat, p = shapiro(residuals)\n",
    "print(f'Statistics={stat:.5}, p={p:.5}')\n",
    "# interpret\n",
    "alpha = 0.05\n",
    "if p > alpha:\n",
    "    print('Sample looks Gaussian (fail to reject H0)')\n",
    "else:\n",
    "    print('Sample does not look Gaussian (reject H0)')"
   ]
  },
  {
   "cell_type": "code",
   "execution_count": 314,
   "metadata": {},
   "outputs": [
    {
     "name": "stdout",
     "output_type": "stream",
     "text": [
      "Statistics=0.32246, p=2.2204e-14\n",
      "Sample does not look Gaussian (reject H0)\n"
     ]
    }
   ],
   "source": [
    "stat, p = kstest(residuals, 'norm')\n",
    "print(f'Statistics={stat:.5}, p={p:.5}')\n",
    "alpha = 0.05\n",
    "if p > alpha:\n",
    "    print('Sample looks Gaussian (fail to reject H0)')\n",
    "else:\n",
    "    print('Sample does not look Gaussian (reject H0)')"
   ]
  },
  {
   "cell_type": "code",
   "execution_count": 315,
   "metadata": {},
   "outputs": [
    {
     "name": "stdout",
     "output_type": "stream",
     "text": [
      "Statistic: 0.764484221987459\n",
      "Alpha at 0.15; Critical Value is: 0.562, data does not look Gaussian (reject H0)\n",
      "Alpha at 0.1; Critical Value is: 0.64, data does not look Gaussian (reject H0)\n",
      "Alpha at 0.05; Critical Value is: 0.767, data does not look Gaussian (reject H0)\n",
      "Alpha at 0.025; Critical Value is: 0.895, data does not look Gaussian (reject H0)\n",
      "Alpha at 0.01: Critical Value is: 1.065, data looks Gaussian (fail to reject H0)\n"
     ]
    }
   ],
   "source": [
    "result = anderson(residuals, dist='norm')\n",
    "print(f'Statistic: {result.statistic}')\n",
    "p = 0\n",
    "for i in range(len(result.critical_values)):\n",
    "    sl, cv = result.significance_level[i], result.critical_values[i]\n",
    "    if result.statistic.any() < result.critical_values[i]:\n",
    "        print(f'Alpha at {sl/100}: Critical Value is: {cv}, data looks Gaussian (fail to reject H0)')\n",
    "    else:\n",
    "        print(f'Alpha at {sl/100}; Critical Value is: {cv}, data does not look Gaussian (reject H0)')"
   ]
  },
  {
   "cell_type": "markdown",
   "metadata": {},
   "source": [
    "### Heteroskedasticity test"
   ]
  },
  {
   "cell_type": "code",
   "execution_count": 316,
   "metadata": {},
   "outputs": [
    {
     "name": "stdout",
     "output_type": "stream",
     "text": [
      "F-Statistics = 29.447, p = 2.277e-07\n",
      "Variance does not look constant (reject H0)\n"
     ]
    }
   ],
   "source": [
    "lm, lm_pvalue, fvalue, f_pvalue = het_breuschpagan(residuals, fitted_values)\n",
    "print(f'F-Statistics = {fvalue:.5}, p = {f_pvalue:.5}')\n",
    "alpha = 0.05\n",
    "if p > alpha:\n",
    "    print('Variance looks constant (fail to reject H0)')\n",
    "else:\n",
    "    print('Variance does not look constant (reject H0)')"
   ]
  },
  {
   "cell_type": "markdown",
   "metadata": {},
   "source": [
    "# FUCK.....\n",
    "\n",
    "Need to explain why didn't work.\n",
    "\n",
    "- Only transformed Y, might affect normality and some other assumption. (one of the true false question in final exam)\n",
    "\n",
    "Can't be bothered to check which X to transform as well. Maybe leave Y as is."
   ]
  },
  {
   "cell_type": "markdown",
   "metadata": {
    "colab_type": "text",
    "id": "jkC5E1vyMlAo"
   },
   "source": [
    "# Lasso Regression\n",
    "\n",
    "---\n",
    "\n",
    "\n",
    "There are relatively few countries around the world compared to the amount of data we generate. After some initial wrangling, we only have 192 countries remaining in our dataset, with 26 first order predictors (and 300 if we consider interaction and second order terms!). Low number of observations put us at risk of overfitting the data, which inflates the variance of our model. Feature selection is therefore needed so we won't be using all 26 predictors (or 300). Also, from the correlation matrix presented above, we know that some predictors are highly correlated and are almot linearly dependent. Hence, we are not at risk of increasing bias if we know which ones to throw away.\n",
    "\n",
    "The Lasso regulisation impose a L1 penalty on the coefficients: every coefficient is being shrinked, and some even as low as zero. This is practically equal to feature selection since feature with zero coefficient has no effect in the model.  \n",
    "\n",
    "Tony話其實啲人會一開始就做咗Lasso先，咁就當做咗Feature Selection。\n",
    "我諗緊:\n",
    "- Lasso -> Best Subset \n",
    "- Best Subset -> Lasso\n",
    "- 唔做Lasso (因為Best Subset 已經夠?)"
   ]
  },
  {
   "cell_type": "code",
   "execution_count": 317,
   "metadata": {
    "colab": {},
    "colab_type": "code",
    "id": "ms0EIh1RMlAp"
   },
   "outputs": [],
   "source": [
    "from sklearn.linear_model import Lasso\n",
    "\n",
    "#呢到Y冇log\n",
    "lasso_data = worldbank_imputed.copy()\n",
    "\n",
    "y = lasso_data[\"Mortality rate, under-5 (per 1,0\"]\n",
    "X = lasso_data.drop([\"Mortality rate, under-5 (per 1,0\"], axis=1)"
   ]
  },
  {
   "cell_type": "code",
   "execution_count": 318,
   "metadata": {
    "colab": {
     "base_uri": "https://localhost:8080/",
     "height": 34
    },
    "colab_type": "code",
    "executionInfo": {
     "elapsed": 624,
     "status": "ok",
     "timestamp": 1543428331891,
     "user": {
      "displayName": "Yiu Chung Wong",
      "photoUrl": "",
      "userId": "13387726171847961125"
     },
     "user_tz": -480
    },
    "id": "n52MIY-IMlAr",
    "outputId": "c0aaa947-dc34-47ea-8c7e-f9b6d903935c"
   },
   "outputs": [
    {
     "data": {
      "text/plain": [
       "(50, 20)"
      ]
     },
     "execution_count": 318,
     "metadata": {},
     "output_type": "execute_result"
    }
   ],
   "source": [
    "alphas = np.logspace(3, -2, 50)*0.5\n",
    "lasso = Lasso(max_iter=10000, normalize=True, random_state = STAT5102)\n",
    "coefs = []\n",
    "\n",
    "for a in alphas:\n",
    "    lasso.set_params(alpha=a)\n",
    "    lasso.fit(X, y)\n",
    "    coefs.append(lasso.coef_)\n",
    "    \n",
    "np.shape(coefs)"
   ]
  },
  {
   "cell_type": "code",
   "execution_count": 319,
   "metadata": {},
   "outputs": [
    {
     "data": {
      "image/png": "[encoded data removed]",
      "text/plain": [
       "<Figure size 864x432 with 1 Axes>"
      ]
     },
     "metadata": {
      "needs_background": "light"
     },
     "output_type": "display_data"
    }
   ],
   "source": [
    "fig, ax = plt.subplots(figsize = (12,6))\n",
    "ax.plot(alphas, coefs)\n",
    "ax.set_xscale('log')\n",
    "plt.axis('tight')\n",
    "plt.xlabel('alpha')\n",
    "plt.ylabel('Coefficients')\n",
    "plt.title(\"Change in coefficient across\\ndifferent values of alpha\")\n",
    "plt.show()"
   ]
  },
  {
   "cell_type": "code",
   "execution_count": 320,
   "metadata": {
    "colab": {
     "base_uri": "https://localhost:8080/",
     "height": 391
    },
    "colab_type": "code",
    "executionInfo": {
     "elapsed": 638,
     "status": "ok",
     "timestamp": 1543428338555,
     "user": {
      "displayName": "Yiu Chung Wong",
      "photoUrl": "",
      "userId": "13387726171847961125"
     },
     "user_tz": -480
    },
    "id": "SnEFqwnSMlAy",
    "outputId": "e0eac63f-3607-4245-9701-063cda947afa"
   },
   "outputs": [
    {
     "name": "stdout",
     "output_type": "stream",
     "text": [
      "Alpha= 0.011017890890817797\n",
      "mse =  951.4063886577749\n",
      "best model coefficients:\n"
     ]
    },
    {
     "data": {
      "text/plain": [
       "Adjusted savings: education expe              -0.090298\n",
       "Adolescent fertility rate (birth               0.128999\n",
       "Age dependency ratio, old                      0.529734\n",
       "Age dependency ratio, young                   -0.322445\n",
       "Agricultural land (% of land are              -0.024502\n",
       "Fertility rate, total (births pe               9.882133\n",
       "GDP growth (annual %)                          0.442632\n",
       "GDP per capita, PPP (constant 20               0.000065\n",
       "Health expenditure per capita (c               0.001117\n",
       "Health expenditure, public (% of              -0.884620\n",
       "Health expenditure, public _0001              -0.276396\n",
       "Inflation, GDP deflator (annual                0.110962\n",
       "Life expectancy at birth, Gender Difference   -2.286172\n",
       "Life expectancy at birth, total               -2.063115\n",
       "Mortality rate, under-5, Gender Difference     2.091391\n",
       "Population growth (annual %)                  -1.854629\n",
       "Immunization, DPT (% of children              -0.163757\n",
       "dtype: float64"
      ]
     },
     "execution_count": 320,
     "metadata": {},
     "output_type": "execute_result"
    }
   ],
   "source": [
    "# Use the cross-validation package to split data into training and test sets\n",
    "from sklearn.linear_model import LassoCV\n",
    "from sklearn.metrics import mean_squared_error\n",
    "X_train, X_test , y_train, y_test = train_test_split(X, y, test_size=0.2, random_state = STAT5102)\n",
    "\n",
    "lassocv = LassoCV(alphas=None, cv=5, max_iter=100000, normalize=True, random_state = STAT5102)\n",
    "lassocv.fit(X_train, y_train)\n",
    "\n",
    "lasso.set_params(alpha=lassocv.alpha_)\n",
    "print(\"Alpha=\", lassocv.alpha_)\n",
    "lasso.fit(X_train, y_train)\n",
    "print(\"mse = \", calculate_mse(y_test, lasso.predict(X_test), X_test.shape[0], X_test.shape[1]))\n",
    "print(\"best model coefficients:\")\n",
    "L1_predictors = pd.Series(lasso.coef_.round(10), index=X.columns)\n",
    "L1_predictors = L1_predictors[L1_predictors != 0.0]\n",
    "L1_predictors"
   ]
  },
  {
   "cell_type": "markdown",
   "metadata": {},
   "source": [
    "17 variables left"
   ]
  },
  {
   "cell_type": "markdown",
   "metadata": {
    "colab_type": "text",
    "id": "Q8DmcOAeMlAW"
   },
   "source": [
    "# Best Subset Selection"
   ]
  },
  {
   "cell_type": "code",
   "execution_count": 323,
   "metadata": {
    "colab": {},
    "colab_type": "code",
    "id": "wi-W9M4mMlAX"
   },
   "outputs": [],
   "source": [
    "def fit_linear_reg(X,Y):\n",
    "    X_train, X_test, y_train, y_test = train_test_split(X,\n",
    "                                                        Y,\n",
    "                                                        test_size=0.2,\n",
    "                                                        random_state = STAT5102)\n",
    "    \n",
    "    n = X_test.shape[0]\n",
    "    k = X_test.shape[1]\n",
    "\n",
    "    #Fit linear regression model and return RSS and R squared values\n",
    "    model_k = linear_model.LinearRegression(fit_intercept = True, n_jobs=3)\n",
    "    model_k.fit(X_train, y_train)\n",
    "\n",
    "    #get test MSE\n",
    "    fitted_values = model_k.predict(X_test)\n",
    "    MSE = calculate_mse(y_test, fitted_values, n, k)\n",
    "    \n",
    "    #This implememtation of RSS might be wrong.\n",
    "    #Because the mean_squared_error simply divides residual by \n",
    "    #RSS = mean_squared_error(y_test, fitted_values) * len(y_test)\n",
    "    \n",
    "    #get test R^2\n",
    "    R_squared = model_k.score(X_test,y_test)\n",
    "    adj_R_squared = 1 - ( (1-R_squared)*(n-1)/(n-(k+1)) )   \n",
    "\n",
    "    #returning the test RSS and test R^2\n",
    "    return MSE, adj_R_squared "
   ]
  },
  {
   "cell_type": "code",
   "execution_count": 324,
   "metadata": {
    "colab": {
     "base_uri": "https://localhost:8080/",
     "height": 391
    },
    "colab_type": "code",
    "executionInfo": {
     "elapsed": 2970028,
     "status": "ok",
     "timestamp": 1543481028416,
     "user": {
      "displayName": "Yiu Chung Wong",
      "photoUrl": "",
      "userId": "13387726171847961125"
     },
     "user_tz": -480
    },
    "id": "bArbPMyIMlAb",
    "outputId": "9d5ce424-1ca4-4be4-bb91-0aa0c7a16c8d"
   },
   "outputs": [
    {
     "name": "stdout",
     "output_type": "stream",
     "text": [
      "start\n"
     ]
    },
    {
     "data": {
      "application/vnd.jupyter.widget-view+json": {
       "model_id": "",
       "version_major": 2,
       "version_minor": 0
      },
      "text/plain": [
       "HBox(children=(IntProgress(value=0, description='Loop...', max=17, style=ProgressStyle(description_width='init…"
      ]
     },
     "metadata": {},
     "output_type": "display_data"
    },
    {
     "name": "stdout",
     "output_type": "stream",
     "text": [
      "Now working on  1  features!\n",
      "Now working on  2  features!\n",
      "Now working on  3  features!\n",
      "Now working on  4  features!\n",
      "Now working on  5  features!\n",
      "Now working on  6  features!\n",
      "Now working on  7  features!\n",
      "Now working on  8  features!\n",
      "Now working on  9  features!\n",
      "Now working on  10  features!\n",
      "Now working on  11  features!\n",
      "Now working on  12  features!\n",
      "Now working on  13  features!\n",
      "Now working on  14  features!\n",
      "Now working on  15  features!\n",
      "Now working on  16  features!\n",
      "Now working on  17  features!\n",
      "\n",
      "Done!\n"
     ]
    }
   ],
   "source": [
    "print(\"start\")\n",
    "#Importing tqdm for the progress bar\n",
    "from tqdm import tnrange, tqdm_notebook\n",
    "import itertools\n",
    "\n",
    "#Initialization variables\n",
    "best_subset_data = worldbank_imputed.copy()\n",
    "\n",
    "#X = best_subset_data.drop(\"Mortality rate, under-5 (per 1,0\", axis=1)\n",
    "\n",
    "X = best_subset_data[L1_predictors.index]\n",
    "Y = best_subset_data[\"Mortality rate, under-5 (per 1,0\"]\n",
    "\n",
    "MSE_list, adj_R_squared_list, feature_list = [],[], []\n",
    "numb_features = []\n",
    "\n",
    "#Looping over k = 1 to k = 11 features in X\n",
    "for k in tnrange(1,len(X.columns) + 1, desc = 'Loop...'):\n",
    "#for k in range(1,len(X.columns) + 1):\n",
    "    print(\"Now working on \", k, \" features!\")\n",
    "    #Looping over all possible combinations: from 11 choose k\n",
    "    for combo in itertools.combinations(X.columns,k):\n",
    "        tmp_result = fit_linear_reg(X[list(combo)],Y)   #Store temp result \n",
    "        MSE_list.append(tmp_result[0])                  #Append lists\n",
    "        adj_R_squared_list.append(tmp_result[1])\n",
    "        \n",
    "        feature_list.append(combo)\n",
    "        numb_features.append(len(combo))   \n",
    "\n",
    "#Store in DataFrame\n",
    "best_sub_features = pd.DataFrame({'numb_features': numb_features,'MSE': MSE_list, 'Adj_R_squared':adj_R_squared_list,'features':feature_list})\n",
    "print(\"Done!\")\n"
   ]
  },
  {
   "cell_type": "code",
   "execution_count": 325,
   "metadata": {
    "colab": {
     "base_uri": "https://localhost:8080/",
     "height": 34
    },
    "colab_type": "code",
    "executionInfo": {
     "elapsed": 711,
     "status": "ok",
     "timestamp": 1543482346607,
     "user": {
      "displayName": "Yiu Chung Wong",
      "photoUrl": "",
      "userId": "13387726171847961125"
     },
     "user_tz": -480
    },
    "id": "0aIxjPGh7Gnf",
    "outputId": "cd876b3f-9bde-48c1-f4fb-70a943263f1e"
   },
   "outputs": [
    {
     "name": "stdout",
     "output_type": "stream",
     "text": [
      "There is a total of 131071 subsets.\n"
     ]
    }
   ],
   "source": [
    "print(\"There is a total of\", best_sub_features.shape[0], \"subsets.\")"
   ]
  },
  {
   "cell_type": "markdown",
   "metadata": {
    "colab_type": "text",
    "id": "gRWUENkD7dPa"
   },
   "source": [
    "There are numerous combinations for every number of features (e.g. 17 combinations when K == 1). \n",
    "We must select the 'best' subset out of 131071 subsets. Hence, for every K (from 1 to 21),  we pick out the subset with smallest test RSS, then store it in a dataframe. We also pick out the subset with highest test adjusted $R^2$, and store them in another dataframe. "
   ]
  },
  {
   "cell_type": "code",
   "execution_count": 328,
   "metadata": {
    "colab": {
     "base_uri": "https://localhost:8080/",
     "height": 267
    },
    "colab_type": "code",
    "executionInfo": {
     "elapsed": 1899,
     "status": "ok",
     "timestamp": 1543483534653,
     "user": {
      "displayName": "Yiu Chung Wong",
      "photoUrl": "",
      "userId": "13387726171847961125"
     },
     "user_tz": -480
    },
    "id": "728_C49qMlAf",
    "outputId": "c3e43771-41e9-4f2b-d374-4f865de74fa0"
   },
   "outputs": [
    {
     "data": {
      "text/html": [
       "<div>\n",
       "<style scoped>\n",
       "    .dataframe tbody tr th:only-of-type {\n",
       "        vertical-align: middle;\n",
       "    }\n",
       "\n",
       "    .dataframe tbody tr th {\n",
       "        vertical-align: top;\n",
       "    }\n",
       "\n",
       "    .dataframe thead th {\n",
       "        text-align: right;\n",
       "    }\n",
       "</style>\n",
       "<table border=\"1\" class=\"dataframe\">\n",
       "  <thead>\n",
       "    <tr style=\"text-align: right;\">\n",
       "      <th></th>\n",
       "      <th>numb_features</th>\n",
       "      <th>MSE</th>\n",
       "      <th>Adj_R_squared</th>\n",
       "      <th>features</th>\n",
       "    </tr>\n",
       "  </thead>\n",
       "  <tbody>\n",
       "    <tr>\n",
       "      <th>14</th>\n",
       "      <td>1</td>\n",
       "      <td>438.201052</td>\n",
       "      <td>0.771590</td>\n",
       "      <td>(Mortality rate, under-5, Gender Difference,)</td>\n",
       "    </tr>\n",
       "    <tr>\n",
       "      <th>144</th>\n",
       "      <td>2</td>\n",
       "      <td>350.419177</td>\n",
       "      <td>0.817346</td>\n",
       "      <td>(Life expectancy at birth, Gender Difference, ...</td>\n",
       "    </tr>\n",
       "    <tr>\n",
       "      <th>827</th>\n",
       "      <td>3</td>\n",
       "      <td>296.584157</td>\n",
       "      <td>0.845407</td>\n",
       "      <td>(Life expectancy at birth, Gender Difference, ...</td>\n",
       "    </tr>\n",
       "  </tbody>\n",
       "</table>\n",
       "</div>"
      ],
      "text/plain": [
       "     numb_features         MSE  Adj_R_squared  \\\n",
       "14               1  438.201052       0.771590   \n",
       "144              2  350.419177       0.817346   \n",
       "827              3  296.584157       0.845407   \n",
       "\n",
       "                                              features  \n",
       "14       (Mortality rate, under-5, Gender Difference,)  \n",
       "144  (Life expectancy at birth, Gender Difference, ...  \n",
       "827  (Life expectancy at birth, Gender Difference, ...  "
      ]
     },
     "metadata": {},
     "output_type": "display_data"
    },
    {
     "data": {
      "text/html": [
       "<div>\n",
       "<style scoped>\n",
       "    .dataframe tbody tr th:only-of-type {\n",
       "        vertical-align: middle;\n",
       "    }\n",
       "\n",
       "    .dataframe tbody tr th {\n",
       "        vertical-align: top;\n",
       "    }\n",
       "\n",
       "    .dataframe thead th {\n",
       "        text-align: right;\n",
       "    }\n",
       "</style>\n",
       "<table border=\"1\" class=\"dataframe\">\n",
       "  <thead>\n",
       "    <tr style=\"text-align: right;\">\n",
       "      <th></th>\n",
       "      <th>numb_features</th>\n",
       "      <th>MSE</th>\n",
       "      <th>Adj_R_squared</th>\n",
       "      <th>features</th>\n",
       "    </tr>\n",
       "  </thead>\n",
       "  <tbody>\n",
       "    <tr>\n",
       "      <th>14</th>\n",
       "      <td>1</td>\n",
       "      <td>438.201052</td>\n",
       "      <td>0.771590</td>\n",
       "      <td>(Mortality rate, under-5, Gender Difference,)</td>\n",
       "    </tr>\n",
       "    <tr>\n",
       "      <th>144</th>\n",
       "      <td>2</td>\n",
       "      <td>350.419177</td>\n",
       "      <td>0.817346</td>\n",
       "      <td>(Life expectancy at birth, Gender Difference, ...</td>\n",
       "    </tr>\n",
       "    <tr>\n",
       "      <th>827</th>\n",
       "      <td>3</td>\n",
       "      <td>296.584157</td>\n",
       "      <td>0.845407</td>\n",
       "      <td>(Life expectancy at birth, Gender Difference, ...</td>\n",
       "    </tr>\n",
       "  </tbody>\n",
       "</table>\n",
       "</div>"
      ],
      "text/plain": [
       "     numb_features         MSE  Adj_R_squared  \\\n",
       "14               1  438.201052       0.771590   \n",
       "144              2  350.419177       0.817346   \n",
       "827              3  296.584157       0.845407   \n",
       "\n",
       "                                              features  \n",
       "14       (Mortality rate, under-5, Gender Difference,)  \n",
       "144  (Life expectancy at birth, Gender Difference, ...  \n",
       "827  (Life expectancy at birth, Gender Difference, ...  "
      ]
     },
     "metadata": {},
     "output_type": "display_data"
    }
   ],
   "source": [
    "min_MSE = best_sub_features[best_sub_features.groupby('numb_features')['MSE'].transform(min) == best_sub_features['MSE']]\n",
    "max_adj_R2 = best_sub_features[best_sub_features.groupby('numb_features')['Adj_R_squared'].transform(max) == best_sub_features['Adj_R_squared']]\n",
    "display(min_MSE.head(3))\n",
    "display(max_adj_R2.head(3))"
   ]
  },
  {
   "cell_type": "markdown",
   "metadata": {
    "colab_type": "text",
    "id": "6lS54Wfw9WEB"
   },
   "source": [
    "The two look very similar. If we compare the two dataframes"
   ]
  },
  {
   "cell_type": "code",
   "execution_count": 329,
   "metadata": {
    "colab": {
     "base_uri": "https://localhost:8080/",
     "height": 34
    },
    "colab_type": "code",
    "executionInfo": {
     "elapsed": 821,
     "status": "ok",
     "timestamp": 1543482440578,
     "user": {
      "displayName": "Yiu Chung Wong",
      "photoUrl": "",
      "userId": "13387726171847961125"
     },
     "user_tz": -480
    },
    "id": "vkTY7syX9ca8",
    "outputId": "4257b870-42e7-4f52-cf3c-110c21ff4a73"
   },
   "outputs": [
    {
     "data": {
      "text/plain": [
       "True"
      ]
     },
     "execution_count": 329,
     "metadata": {},
     "output_type": "execute_result"
    }
   ],
   "source": [
    "all(min_MSE == max_adj_R2)"
   ]
  },
  {
   "cell_type": "markdown",
   "metadata": {
    "colab_type": "text",
    "id": "6w6TDj-z9gVE"
   },
   "source": [
    "We see that the two dataframes are identical. This tells us that for a given K (number of features), the subset with the lowest RSS is also the subset with the highest adjusted $R^2$. \n",
    "\n",
    "Next we sort the two data frames by adjusted  $R^2$ and RSS."
   ]
  },
  {
   "cell_type": "code",
   "execution_count": 330,
   "metadata": {
    "colab": {
     "base_uri": "https://localhost:8080/",
     "height": 515
    },
    "colab_type": "code",
    "executionInfo": {
     "elapsed": 644,
     "status": "ok",
     "timestamp": 1543483596782,
     "user": {
      "displayName": "Yiu Chung Wong",
      "photoUrl": "",
      "userId": "13387726171847961125"
     },
     "user_tz": -480
    },
    "id": "Z7oLXEW7u7fG",
    "outputId": "cd498379-1305-44ff-dcf3-f261fa172b4a"
   },
   "outputs": [
    {
     "data": {
      "text/html": [
       "<div>\n",
       "<style scoped>\n",
       "    .dataframe tbody tr th:only-of-type {\n",
       "        vertical-align: middle;\n",
       "    }\n",
       "\n",
       "    .dataframe tbody tr th {\n",
       "        vertical-align: top;\n",
       "    }\n",
       "\n",
       "    .dataframe thead th {\n",
       "        text-align: right;\n",
       "    }\n",
       "</style>\n",
       "<table border=\"1\" class=\"dataframe\">\n",
       "  <thead>\n",
       "    <tr style=\"text-align: right;\">\n",
       "      <th></th>\n",
       "      <th>numb_features</th>\n",
       "      <th>Adj_R_squared</th>\n",
       "      <th>features</th>\n",
       "    </tr>\n",
       "  </thead>\n",
       "  <tbody>\n",
       "    <tr>\n",
       "      <th>18607</th>\n",
       "      <td>6</td>\n",
       "      <td>0.855810</td>\n",
       "      <td>(Age dependency ratio, old, GDP per capita, PP...</td>\n",
       "    </tr>\n",
       "    <tr>\n",
       "      <th>37686</th>\n",
       "      <td>7</td>\n",
       "      <td>0.852912</td>\n",
       "      <td>(Age dependency ratio, old, GDP per capita, PP...</td>\n",
       "    </tr>\n",
       "    <tr>\n",
       "      <th>7358</th>\n",
       "      <td>5</td>\n",
       "      <td>0.851755</td>\n",
       "      <td>(Age dependency ratio, old, Health expenditure...</td>\n",
       "    </tr>\n",
       "    <tr>\n",
       "      <th>61633</th>\n",
       "      <td>8</td>\n",
       "      <td>0.848925</td>\n",
       "      <td>(Age dependency ratio, old, Agricultural land ...</td>\n",
       "    </tr>\n",
       "    <tr>\n",
       "      <th>3172</th>\n",
       "      <td>4</td>\n",
       "      <td>0.847334</td>\n",
       "      <td>(Health expenditure, public (% of, Life expect...</td>\n",
       "    </tr>\n",
       "    <tr>\n",
       "      <th>827</th>\n",
       "      <td>3</td>\n",
       "      <td>0.845407</td>\n",
       "      <td>(Life expectancy at birth, Gender Difference, ...</td>\n",
       "    </tr>\n",
       "    <tr>\n",
       "      <th>87261</th>\n",
       "      <td>9</td>\n",
       "      <td>0.844349</td>\n",
       "      <td>(Age dependency ratio, old, Agricultural land ...</td>\n",
       "    </tr>\n",
       "  </tbody>\n",
       "</table>\n",
       "</div>"
      ],
      "text/plain": [
       "       numb_features  Adj_R_squared  \\\n",
       "18607              6       0.855810   \n",
       "37686              7       0.852912   \n",
       "7358               5       0.851755   \n",
       "61633              8       0.848925   \n",
       "3172               4       0.847334   \n",
       "827                3       0.845407   \n",
       "87261              9       0.844349   \n",
       "\n",
       "                                                features  \n",
       "18607  (Age dependency ratio, old, GDP per capita, PP...  \n",
       "37686  (Age dependency ratio, old, GDP per capita, PP...  \n",
       "7358   (Age dependency ratio, old, Health expenditure...  \n",
       "61633  (Age dependency ratio, old, Agricultural land ...  \n",
       "3172   (Health expenditure, public (% of, Life expect...  \n",
       "827    (Life expectancy at birth, Gender Difference, ...  \n",
       "87261  (Age dependency ratio, old, Agricultural land ...  "
      ]
     },
     "metadata": {},
     "output_type": "display_data"
    },
    {
     "data": {
      "text/html": [
       "<div>\n",
       "<style scoped>\n",
       "    .dataframe tbody tr th:only-of-type {\n",
       "        vertical-align: middle;\n",
       "    }\n",
       "\n",
       "    .dataframe tbody tr th {\n",
       "        vertical-align: top;\n",
       "    }\n",
       "\n",
       "    .dataframe thead th {\n",
       "        text-align: right;\n",
       "    }\n",
       "</style>\n",
       "<table border=\"1\" class=\"dataframe\">\n",
       "  <thead>\n",
       "    <tr style=\"text-align: right;\">\n",
       "      <th></th>\n",
       "      <th>numb_features</th>\n",
       "      <th>MSE</th>\n",
       "      <th>features</th>\n",
       "    </tr>\n",
       "  </thead>\n",
       "  <tbody>\n",
       "    <tr>\n",
       "      <th>18607</th>\n",
       "      <td>6</td>\n",
       "      <td>276.625795</td>\n",
       "      <td>(Age dependency ratio, old, GDP per capita, PP...</td>\n",
       "    </tr>\n",
       "    <tr>\n",
       "      <th>37686</th>\n",
       "      <td>7</td>\n",
       "      <td>282.185973</td>\n",
       "      <td>(Age dependency ratio, old, GDP per capita, PP...</td>\n",
       "    </tr>\n",
       "    <tr>\n",
       "      <th>7358</th>\n",
       "      <td>5</td>\n",
       "      <td>284.405191</td>\n",
       "      <td>(Age dependency ratio, old, Health expenditure...</td>\n",
       "    </tr>\n",
       "    <tr>\n",
       "      <th>61633</th>\n",
       "      <td>8</td>\n",
       "      <td>289.835622</td>\n",
       "      <td>(Age dependency ratio, old, Agricultural land ...</td>\n",
       "    </tr>\n",
       "    <tr>\n",
       "      <th>3172</th>\n",
       "      <td>4</td>\n",
       "      <td>292.887574</td>\n",
       "      <td>(Health expenditure, public (% of, Life expect...</td>\n",
       "    </tr>\n",
       "    <tr>\n",
       "      <th>827</th>\n",
       "      <td>3</td>\n",
       "      <td>296.584157</td>\n",
       "      <td>(Life expectancy at birth, Gender Difference, ...</td>\n",
       "    </tr>\n",
       "    <tr>\n",
       "      <th>87261</th>\n",
       "      <td>9</td>\n",
       "      <td>298.615100</td>\n",
       "      <td>(Age dependency ratio, old, Agricultural land ...</td>\n",
       "    </tr>\n",
       "  </tbody>\n",
       "</table>\n",
       "</div>"
      ],
      "text/plain": [
       "       numb_features         MSE  \\\n",
       "18607              6  276.625795   \n",
       "37686              7  282.185973   \n",
       "7358               5  284.405191   \n",
       "61633              8  289.835622   \n",
       "3172               4  292.887574   \n",
       "827                3  296.584157   \n",
       "87261              9  298.615100   \n",
       "\n",
       "                                                features  \n",
       "18607  (Age dependency ratio, old, GDP per capita, PP...  \n",
       "37686  (Age dependency ratio, old, GDP per capita, PP...  \n",
       "7358   (Age dependency ratio, old, Health expenditure...  \n",
       "61633  (Age dependency ratio, old, Agricultural land ...  \n",
       "3172   (Health expenditure, public (% of, Life expect...  \n",
       "827    (Life expectancy at birth, Gender Difference, ...  \n",
       "87261  (Age dependency ratio, old, Agricultural land ...  "
      ]
     },
     "metadata": {},
     "output_type": "display_data"
    }
   ],
   "source": [
    "display(max_adj_R2.drop(['MSE'], axis = 1).sort_values(by=['Adj_R_squared'], ascending = False).head(7))\n",
    "display(min_MSE.drop(['Adj_R_squared'], axis = 1).sort_values(by=['MSE'], ascending = True).head(7))"
   ]
  },
  {
   "cell_type": "markdown",
   "metadata": {
    "colab_type": "text",
    "id": "VHXYjFzOy0QM"
   },
   "source": [
    "choose either 10 or 11."
   ]
  },
  {
   "cell_type": "code",
   "execution_count": 344,
   "metadata": {},
   "outputs": [
    {
     "data": {
      "text/plain": [
       "['Age dependency ratio, old',\n",
       " 'GDP per capita, PPP (constant 20',\n",
       " 'Health expenditure, public (% of',\n",
       " 'Life expectancy at birth, Gender Difference',\n",
       " 'Mortality rate, under-5, Gender Difference',\n",
       " 'Immunization, DPT (% of children']"
      ]
     },
     "execution_count": 344,
     "metadata": {},
     "output_type": "execute_result"
    }
   ],
   "source": [
    "best_subset_features = min_MSE[min_MSE[\"numb_features\"] == 6][\"features\"].tolist()\n",
    "best_subset_features = list(best_subset_features[0])\n",
    "best_subset_features"
   ]
  },
  {
   "cell_type": "markdown",
   "metadata": {
    "colab_type": "text",
    "id": "wZNePfxQ-Qsb"
   },
   "source": [
    "## Plotting the best subset selection process"
   ]
  },
  {
   "cell_type": "code",
   "execution_count": 332,
   "metadata": {
    "colab": {
     "base_uri": "https://localhost:8080/",
     "height": 423
    },
    "colab_type": "code",
    "executionInfo": {
     "elapsed": 30417,
     "status": "ok",
     "timestamp": 1543482516588,
     "user": {
      "displayName": "Yiu Chung Wong",
      "photoUrl": "",
      "userId": "13387726171847961125"
     },
     "user_tz": -480
    },
    "id": "yDujHgLU-SK2",
    "outputId": "b7022a7e-3a29-42f2-9cff-ee07b9f0ea47"
   },
   "outputs": [
    {
     "data": {
      "image/png": "[encoded data removed]",
      "text/plain": [
       "<Figure size 1152x432 with 2 Axes>"
      ]
     },
     "metadata": {
      "needs_background": "light"
     },
     "output_type": "display_data"
    }
   ],
   "source": [
    "#Adding columns to the dataframe with RSS and R squared values of the best subset\n",
    "best_sub_features['min_MSE'] = best_sub_features.groupby('numb_features')['MSE'].transform(min)\n",
    "best_sub_features['max_R_squared'] = best_sub_features.groupby('numb_features')['Adj_R_squared'].transform(max)\n",
    "\n",
    "fig = plt.figure(figsize = (16,6))\n",
    "\n",
    "ax = fig.add_subplot(1, 2, 1)\n",
    "ax.scatter(best_sub_features.numb_features,best_sub_features.MSE, alpha = .2, color = 'darkblue' )\n",
    "ax.set_xlabel('# Features')\n",
    "ax.set_ylabel('Test MSE')\n",
    "ax.set_title('MSE - Best subset selection')\n",
    "ax.plot(best_sub_features.numb_features, best_sub_features.min_MSE,color = 'r', label = 'Best subset')\n",
    "ax.legend()\n",
    "\n",
    "ax = fig.add_subplot(1, 2, 2)\n",
    "ax.scatter(best_sub_features.numb_features,best_sub_features.Adj_R_squared, alpha = .2, color = 'darkblue' )\n",
    "ax.plot(best_sub_features.numb_features,best_sub_features.max_R_squared,color = 'r', label = 'Best subset')\n",
    "ax.set_xlabel('# Features')\n",
    "ax.set_ylabel('Test adjusted R squared')\n",
    "ax.set_title('R_squared - Best subset selection')\n",
    "ax.legend()\n",
    "\n",
    "plt.show()"
   ]
  },
  {
   "cell_type": "markdown",
   "metadata": {
    "colab_type": "text",
    "id": "NHES-W02MlAg"
   },
   "source": [
    "# Multiple Regression"
   ]
  },
  {
   "cell_type": "markdown",
   "metadata": {
    "colab_type": "text",
    "id": "8yjreYg9MlAh"
   },
   "source": [
    "Use all first order terms"
   ]
  },
  {
   "cell_type": "code",
   "execution_count": 351,
   "metadata": {
    "colab": {
     "base_uri": "https://localhost:8080/",
     "height": 362
    },
    "colab_type": "code",
    "executionInfo": {
     "elapsed": 664,
     "status": "ok",
     "timestamp": 1543428316377,
     "user": {
      "displayName": "Yiu Chung Wong",
      "photoUrl": "",
      "userId": "13387726171847961125"
     },
     "user_tz": -480
    },
    "id": "HLEfs7WSMlAi",
    "outputId": "99e5f921-1b78-4f48-a4a5-e2dccd2035a1"
   },
   "outputs": [],
   "source": [
    "from statsmodels.graphics.gofplots import qqplot\n",
    "\n",
    "multi_reg_data = worldbank_imputed.copy()\n",
    "X_train, X_test, y_train, y_test = train_test_split(multi_reg_data[best_subset_features], \n",
    "                                                    multi_reg_data[\"Mortality rate, under-5 (per 1,0\"].values, \n",
    "                                                    test_size=0.2, \n",
    "                                                    random_state = STAT5102)\n",
    "\n",
    "y_train = y_train.reshape(-1, 1)\n",
    "y_test = y_test.reshape(-1, 1)\n",
    "\n",
    "lm = linear_model.LinearRegression()\n",
    "model = lm.fit(X_train, y_train)\n",
    "# predictions = lm.predict(X_test)\n",
    "# residuals = y_test - predictions\n",
    "# residuals = residuals.flatten()\n",
    "\n",
    "fitted_values = lm.predict(X_train)\n",
    "residuals = y_train - fitted_values\n",
    "residuals = residuals.flatten()"
   ]
  },
  {
   "cell_type": "code",
   "execution_count": 352,
   "metadata": {},
   "outputs": [
    {
     "data": {
      "image/png": "[encoded data removed]",
      "text/plain": [
       "<Figure size 864x432 with 3 Axes>"
      ]
     },
     "metadata": {
      "needs_background": "light"
     },
     "output_type": "display_data"
    },
    {
     "name": "stdout",
     "output_type": "stream",
     "text": [
      "Test R^2: 0.8791924218789737\n",
      "Test MSE: 225.6684120318538\n"
     ]
    }
   ],
   "source": [
    "fig = plt.figure(figsize = (12,6))\n",
    "ax1 = plt.subplot(221)\n",
    "ax2 = plt.subplot(222)\n",
    "ax3 = plt.subplot(212)\n",
    "\n",
    "ax1.scatter(y_train, fitted_values)\n",
    "ax1.set_xlabel(\"True Values\")\n",
    "ax1.set_ylabel(\"Predictions\")\n",
    "ax1.set_title(\"True Values v.s. Predictions\")\n",
    "\n",
    "ax2.scatter(fitted_values, residuals)\n",
    "ax2.axhline(y = 0, color='r', linestyle = '--')\n",
    "ax2.set_xlabel(\"Fitted values\")\n",
    "ax2.set_ylabel(\"Residual\")\n",
    "ax2.set_title(\"Residual Plot\")\n",
    "\n",
    "sm.qqplot(residuals, line='s', ax=ax3, fit=True)\n",
    "\n",
    "plt.tight_layout()\n",
    "plt.show()\n",
    "\n",
    "print(\"Test R^2: \" + str(lm.score(X = X_test, y = y_test)))\n",
    "print(\"Test MSE: \" + str(mean_squared_error(y_test, lm.predict(X_test))))"
   ]
  },
  {
   "cell_type": "markdown",
   "metadata": {},
   "source": [
    "### Normality Tests"
   ]
  },
  {
   "cell_type": "code",
   "execution_count": 353,
   "metadata": {},
   "outputs": [
    {
     "name": "stdout",
     "output_type": "stream",
     "text": [
      "Statistics=0.90622, p=3.0142e-08\n",
      "Sample does not look Gaussian (reject H0)\n"
     ]
    }
   ],
   "source": [
    "stat, p = shapiro(residuals)\n",
    "print(f'Statistics={stat:.5}, p={p:.5}')\n",
    "# interpret\n",
    "alpha = 0.05\n",
    "if p > alpha:\n",
    "    print('Sample looks Gaussian (fail to reject H0)')\n",
    "else:\n",
    "    print('Sample does not look Gaussian (reject H0)')"
   ]
  },
  {
   "cell_type": "code",
   "execution_count": 354,
   "metadata": {},
   "outputs": [
    {
     "name": "stdout",
     "output_type": "stream",
     "text": [
      "Statistics=0.45772, p=0.0\n",
      "Sample does not look Gaussian (reject H0)\n"
     ]
    }
   ],
   "source": [
    "stat, p = kstest(residuals, 'norm')\n",
    "print(f'Statistics={stat:.5}, p={p:.5}')\n",
    "alpha = 0.05\n",
    "if p > alpha:\n",
    "    print('Sample looks Gaussian (fail to reject H0)')\n",
    "else:\n",
    "    print('Sample does not look Gaussian (reject H0)')"
   ]
  },
  {
   "cell_type": "code",
   "execution_count": 355,
   "metadata": {},
   "outputs": [
    {
     "name": "stdout",
     "output_type": "stream",
     "text": [
      "Statistic: 3.442109980662906\n",
      "Alpha at 0.15; Critical Value is: 0.562, data does not look Gaussian (reject H0)\n",
      "Alpha at 0.1; Critical Value is: 0.64, data does not look Gaussian (reject H0)\n",
      "Alpha at 0.05; Critical Value is: 0.767, data does not look Gaussian (reject H0)\n",
      "Alpha at 0.025; Critical Value is: 0.895, data does not look Gaussian (reject H0)\n",
      "Alpha at 0.01: Critical Value is: 1.065, data looks Gaussian (fail to reject H0)\n"
     ]
    }
   ],
   "source": [
    "result = anderson(residuals, dist='norm')\n",
    "print(f'Statistic: {result.statistic}')\n",
    "p = 0\n",
    "for i in range(len(result.critical_values)):\n",
    "    sl, cv = result.significance_level[i], result.critical_values[i]\n",
    "    if result.statistic.any() < result.critical_values[i]:\n",
    "        print(f'Alpha at {sl/100}: Critical Value is: {cv}, data looks Gaussian (fail to reject H0)')\n",
    "    else:\n",
    "        print(f'Alpha at {sl/100}; Critical Value is: {cv}, data does not look Gaussian (reject H0)')"
   ]
  },
  {
   "cell_type": "markdown",
   "metadata": {},
   "source": [
    "### Heteroskedasticity test"
   ]
  },
  {
   "cell_type": "code",
   "execution_count": 356,
   "metadata": {},
   "outputs": [
    {
     "name": "stdout",
     "output_type": "stream",
     "text": [
      "F-Statistics = 39.942, p = 2.8699e-09\n",
      "Variance does not look constant (reject H0)\n"
     ]
    }
   ],
   "source": [
    "lm, lm_pvalue, fvalue, f_pvalue = het_breuschpagan(residuals, fitted_values)\n",
    "print(f'F-Statistics = {fvalue:.5}, p = {f_pvalue:.5}')\n",
    "alpha = 0.05\n",
    "if p > alpha:\n",
    "    print('Variance looks constant (fail to reject H0)')\n",
    "else:\n",
    "    print('Variance does not look constant (reject H0)')"
   ]
  },
  {
   "cell_type": "markdown",
   "metadata": {
    "colab_type": "text",
    "id": "RXi_8b98MlAl"
   },
   "source": [
    "# Variance Inflation Factor\n",
    "\n",
    "Multicollinearity occurs when two or more predictors in the model are correlated and provide redundant information about the response. Multicollinearity was measured by variance inflation factors (VIF) and tolerance. If VIF value exceeding 4.0, or by tol- erance less than 0.2 then there is a problem with multicollinearity (Hair et al., 2010).\n",
    "\n",
    "做完Best Subset之後先用VIF黎check淨低果啲predictors"
   ]
  },
  {
   "cell_type": "code",
   "execution_count": 339,
   "metadata": {
    "colab": {},
    "colab_type": "code",
    "id": "4hWVvaHtMlAl"
   },
   "outputs": [],
   "source": [
    "from statsmodels.stats.outliers_influence import variance_inflation_factor\n",
    "def calculate_vif_(X, thresh=10.0):\n",
    "    variables = list(range(X.shape[1]))\n",
    "    dropped = True\n",
    "    while dropped:\n",
    "        dropped = False\n",
    "        vif = [variance_inflation_factor(X.iloc[:, variables].values, ix)\n",
    "               for ix in range(X.iloc[:, variables].shape[1])]\n",
    "\n",
    "        maxloc = vif.index(max(vif))\n",
    "        if max(vif) > thresh:\n",
    "            print('dropping \\'' + X.iloc[:, variables].columns[maxloc] +\n",
    "                  '\\' at index: ' + str(maxloc))\n",
    "            del variables[maxloc]\n",
    "            dropped = True\n",
    "\n",
    "    print('Remaining variables:')\n",
    "    print(X.columns[variables])\n",
    "    return X.iloc[:, variables]\n"
   ]
  },
  {
   "cell_type": "code",
   "execution_count": 345,
   "metadata": {},
   "outputs": [],
   "source": [
    "X = multi_reg_data[best_subset_features]"
   ]
  },
  {
   "cell_type": "code",
   "execution_count": 346,
   "metadata": {},
   "outputs": [
    {
     "data": {
      "text/html": [
       "<div>\n",
       "<style scoped>\n",
       "    .dataframe tbody tr th:only-of-type {\n",
       "        vertical-align: middle;\n",
       "    }\n",
       "\n",
       "    .dataframe tbody tr th {\n",
       "        vertical-align: top;\n",
       "    }\n",
       "\n",
       "    .dataframe thead th {\n",
       "        text-align: right;\n",
       "    }\n",
       "</style>\n",
       "<table border=\"1\" class=\"dataframe\">\n",
       "  <thead>\n",
       "    <tr style=\"text-align: right;\">\n",
       "      <th></th>\n",
       "      <th>VIF Factor</th>\n",
       "      <th>features</th>\n",
       "    </tr>\n",
       "  </thead>\n",
       "  <tbody>\n",
       "    <tr>\n",
       "      <th>0</th>\n",
       "      <td>9.266668</td>\n",
       "      <td>Age dependency ratio, old</td>\n",
       "    </tr>\n",
       "    <tr>\n",
       "      <th>1</th>\n",
       "      <td>3.308051</td>\n",
       "      <td>GDP per capita, PPP (constant 20</td>\n",
       "    </tr>\n",
       "    <tr>\n",
       "      <th>2</th>\n",
       "      <td>6.658830</td>\n",
       "      <td>Health expenditure, public (% of</td>\n",
       "    </tr>\n",
       "    <tr>\n",
       "      <th>3</th>\n",
       "      <td>7.350616</td>\n",
       "      <td>Life expectancy at birth, Gender Difference</td>\n",
       "    </tr>\n",
       "    <tr>\n",
       "      <th>4</th>\n",
       "      <td>3.478935</td>\n",
       "      <td>Mortality rate, under-5, Gender Difference</td>\n",
       "    </tr>\n",
       "    <tr>\n",
       "      <th>5</th>\n",
       "      <td>15.970238</td>\n",
       "      <td>Immunization, DPT (% of children</td>\n",
       "    </tr>\n",
       "  </tbody>\n",
       "</table>\n",
       "</div>"
      ],
      "text/plain": [
       "   VIF Factor                                     features\n",
       "0    9.266668                    Age dependency ratio, old\n",
       "1    3.308051             GDP per capita, PPP (constant 20\n",
       "2    6.658830             Health expenditure, public (% of\n",
       "3    7.350616  Life expectancy at birth, Gender Difference\n",
       "4    3.478935   Mortality rate, under-5, Gender Difference\n",
       "5   15.970238             Immunization, DPT (% of children"
      ]
     },
     "execution_count": 346,
     "metadata": {},
     "output_type": "execute_result"
    }
   ],
   "source": [
    "vif = pd.DataFrame()\n",
    "vif[\"VIF Factor\"] = [variance_inflation_factor(X.values, i) for i in range(X.shape[1])]\n",
    "vif[\"features\"] = X.columns\n",
    "vif"
   ]
  },
  {
   "cell_type": "code",
   "execution_count": null,
   "metadata": {
    "colab": {
     "base_uri": "https://localhost:8080/",
     "height": 700
    },
    "colab_type": "code",
    "executionInfo": {
     "elapsed": 729,
     "status": "ok",
     "timestamp": 1543428323128,
     "user": {
      "displayName": "Yiu Chung Wong",
      "photoUrl": "",
      "userId": "13387726171847961125"
     },
     "user_tz": -480
    },
    "id": "GV1RLqkVTIPv",
    "outputId": "50b25324-0c19-40fe-d4d9-c0933c39c89e"
   },
   "outputs": [],
   "source": [
    "# X = multi_reg_data.drop(\"Mortality rate, under-5 (per 1,0\", axis=1)\n",
    "# vif = pd.DataFrame()\n",
    "# vif[\"VIF Factor\"] = [variance_inflation_factor(X.values, i) for i in range(X.shape[1])]\n",
    "# vif[\"features\"] = X.columns\n",
    "# vif\n",
    "calculate_vif_(X)"
   ]
  },
  {
   "cell_type": "markdown",
   "metadata": {
    "colab_type": "text",
    "id": "jn9I6wjXMlA8"
   },
   "source": [
    "# Create polynomial features \n",
    "\n",
    "---\n",
    "\n",
    "### See how many polynomial features can there be using the PolynomialFeatures function; to generate quadratic terms for Polynomial regression"
   ]
  },
  {
   "cell_type": "code",
   "execution_count": 363,
   "metadata": {
    "colab": {
     "base_uri": "https://localhost:8080/",
     "height": 34
    },
    "colab_type": "code",
    "executionInfo": {
     "elapsed": 671,
     "status": "ok",
     "timestamp": 1543428342905,
     "user": {
      "displayName": "Yiu Chung Wong",
      "photoUrl": "",
      "userId": "13387726171847961125"
     },
     "user_tz": -480
    },
    "id": "APU0WlrMMlA9",
    "outputId": "d2b7ebb6-477a-4315-8dff-461ffcedf9c3"
   },
   "outputs": [
    {
     "data": {
      "text/plain": [
       "['1', 'x', 'y', 'x^2', 'x y', 'y^2']"
      ]
     },
     "execution_count": 363,
     "metadata": {},
     "output_type": "execute_result"
    }
   ],
   "source": [
    "from sklearn.preprocessing import PolynomialFeatures\n",
    "\n",
    "#example\n",
    "#test PolynomialFeatures function\n",
    "data = pd.DataFrame.from_dict({\n",
    "    'x': np.random.randint(low=1, high=10, size=5),\n",
    "    'y': np.random.randint(low=-1, high=1, size=5),\n",
    "})\n",
    "\n",
    "p = PolynomialFeatures(degree=2).fit(data)\n",
    "p.get_feature_names(data.columns)"
   ]
  },
  {
   "cell_type": "markdown",
   "metadata": {
    "colab_type": "text",
    "id": "3p0XTnRHWkZp"
   },
   "source": [
    "So a 2-D matrix becomes 5-D after adding second order terms and interaction terms. The transformed data is in the following matrix:"
   ]
  },
  {
   "cell_type": "code",
   "execution_count": 362,
   "metadata": {
    "colab": {
     "base_uri": "https://localhost:8080/",
     "height": 102
    },
    "colab_type": "code",
    "executionInfo": {
     "elapsed": 696,
     "status": "ok",
     "timestamp": 1543428345523,
     "user": {
      "displayName": "Yiu Chung Wong",
      "photoUrl": "",
      "userId": "13387726171847961125"
     },
     "user_tz": -480
    },
    "id": "ggbeyGFLMlBA",
    "outputId": "b1910ef3-688d-45e1-dd7a-114b8f5fcd54"
   },
   "outputs": [
    {
     "data": {
      "text/plain": [
       "array([[ 1.,  3., -1.,  9., -3.,  1.],\n",
       "       [ 1.,  9., -1., 81., -9.,  1.],\n",
       "       [ 1.,  7., -1., 49., -7.,  1.],\n",
       "       [ 1.,  3., -1.,  9., -3.,  1.],\n",
       "       [ 1.,  2., -1.,  4., -2.,  1.]])"
      ]
     },
     "execution_count": 362,
     "metadata": {},
     "output_type": "execute_result"
    }
   ],
   "source": [
    "p.transform(data)"
   ]
  },
  {
   "cell_type": "markdown",
   "metadata": {
    "colab_type": "text",
    "id": "NlpgPGM2W_a4"
   },
   "source": [
    "### Transform our data"
   ]
  },
  {
   "cell_type": "code",
   "execution_count": 387,
   "metadata": {
    "colab": {
     "base_uri": "https://localhost:8080/",
     "height": 34
    },
    "colab_type": "code",
    "executionInfo": {
     "elapsed": 614,
     "status": "ok",
     "timestamp": 1543428366112,
     "user": {
      "displayName": "Yiu Chung Wong",
      "photoUrl": "",
      "userId": "13387726171847961125"
     },
     "user_tz": -480
    },
    "id": "kUDUa_7yMlBC",
    "outputId": "e0c066ce-fd91-4c24-8ccd-13f00bdc7102"
   },
   "outputs": [
    {
     "data": {
      "text/plain": [
       "'There are a total of 28 first, second, and interaction terms'"
      ]
     },
     "execution_count": 387,
     "metadata": {},
     "output_type": "execute_result"
    }
   ],
   "source": [
    "#make a copy of our dataset: dont mess with our dataset\n",
    "#impute data with mean coz PolynomialFeatures function can't work with dataset with missing data\n",
    "poly = worldbank_imputed.copy()\n",
    "poly = poly[best_subset_features]\n",
    "\n",
    "#have to deal with continent column.\n",
    "degree = 2\n",
    "quadratic_terms = PolynomialFeatures(degree = degree).fit(poly)\n",
    "ternames = quadratic_terms.get_feature_names(poly.columns)\n",
    "num_terms = len(ternames)\n",
    "\n",
    "#transform data into their corrosponding quadratic form\n",
    "quadratic_data = quadratic_terms.transform(poly)\n",
    "quadratic_data = pd.DataFrame(data = quadratic_data)\n",
    "quadratic_data.rename(columns=dict(zip(quadratic_data.columns,ternames)), inplace=True)\n",
    "quadratic_data.drop('1', axis = 1, inplace = True)\n",
    "\"There are a total of \" + str(num_terms) + \" first, second, and interaction terms\""
   ]
  },
  {
   "cell_type": "code",
   "execution_count": null,
   "metadata": {},
   "outputs": [],
   "source": []
  },
  {
   "cell_type": "code",
   "execution_count": null,
   "metadata": {},
   "outputs": [],
   "source": []
  },
  {
   "cell_type": "code",
   "execution_count": null,
   "metadata": {},
   "outputs": [],
   "source": []
  },
  {
   "cell_type": "markdown",
   "metadata": {
    "colab_type": "text",
    "id": "e3SzRD77MlBE"
   },
   "source": [
    "# Variance Inflation Factor on higher order terms"
   ]
  },
  {
   "cell_type": "code",
   "execution_count": 369,
   "metadata": {
    "colab": {
     "base_uri": "https://localhost:8080/",
     "height": 2023
    },
    "colab_type": "code",
    "executionInfo": {
     "elapsed": 6134,
     "status": "ok",
     "timestamp": 1543428558351,
     "user": {
      "displayName": "Yiu Chung Wong",
      "photoUrl": "",
      "userId": "13387726171847961125"
     },
     "user_tz": -480
    },
    "id": "TV_FvK1sMlBE",
    "outputId": "36b72a29-de87-4030-f55e-e2fa68ef2224",
    "scrolled": true
   },
   "outputs": [
    {
     "data": {
      "text/html": [
       "<div>\n",
       "<style scoped>\n",
       "    .dataframe tbody tr th:only-of-type {\n",
       "        vertical-align: middle;\n",
       "    }\n",
       "\n",
       "    .dataframe tbody tr th {\n",
       "        vertical-align: top;\n",
       "    }\n",
       "\n",
       "    .dataframe thead th {\n",
       "        text-align: right;\n",
       "    }\n",
       "</style>\n",
       "<table border=\"1\" class=\"dataframe\">\n",
       "  <thead>\n",
       "    <tr style=\"text-align: right;\">\n",
       "      <th></th>\n",
       "      <th>VIF Factor</th>\n",
       "      <th>features</th>\n",
       "    </tr>\n",
       "  </thead>\n",
       "  <tbody>\n",
       "    <tr>\n",
       "      <th>0</th>\n",
       "      <td>5.089968</td>\n",
       "      <td>Age dependency ratio, old^2</td>\n",
       "    </tr>\n",
       "    <tr>\n",
       "      <th>1</th>\n",
       "      <td>1.835073</td>\n",
       "      <td>GDP per capita, PPP (constant 20^2</td>\n",
       "    </tr>\n",
       "    <tr>\n",
       "      <th>2</th>\n",
       "      <td>1.665589</td>\n",
       "      <td>GDP per capita, PPP (constant 20 Mortality rat...</td>\n",
       "    </tr>\n",
       "    <tr>\n",
       "      <th>3</th>\n",
       "      <td>6.206888</td>\n",
       "      <td>Health expenditure, public (% of^2</td>\n",
       "    </tr>\n",
       "    <tr>\n",
       "      <th>4</th>\n",
       "      <td>7.684024</td>\n",
       "      <td>Health expenditure, public (% of Mortality rat...</td>\n",
       "    </tr>\n",
       "    <tr>\n",
       "      <th>5</th>\n",
       "      <td>4.779796</td>\n",
       "      <td>Life expectancy at birth, Gender Difference^2</td>\n",
       "    </tr>\n",
       "    <tr>\n",
       "      <th>6</th>\n",
       "      <td>5.468896</td>\n",
       "      <td>Life expectancy at birth, Gender Difference Mo...</td>\n",
       "    </tr>\n",
       "    <tr>\n",
       "      <th>7</th>\n",
       "      <td>5.126564</td>\n",
       "      <td>Mortality rate, under-5, Gender Difference^2</td>\n",
       "    </tr>\n",
       "    <tr>\n",
       "      <th>8</th>\n",
       "      <td>5.477721</td>\n",
       "      <td>Immunization, DPT (% of children^2</td>\n",
       "    </tr>\n",
       "  </tbody>\n",
       "</table>\n",
       "</div>"
      ],
      "text/plain": [
       "   VIF Factor                                           features\n",
       "0    5.089968                        Age dependency ratio, old^2\n",
       "1    1.835073                 GDP per capita, PPP (constant 20^2\n",
       "2    1.665589  GDP per capita, PPP (constant 20 Mortality rat...\n",
       "3    6.206888                 Health expenditure, public (% of^2\n",
       "4    7.684024  Health expenditure, public (% of Mortality rat...\n",
       "5    4.779796      Life expectancy at birth, Gender Difference^2\n",
       "6    5.468896  Life expectancy at birth, Gender Difference Mo...\n",
       "7    5.126564       Mortality rate, under-5, Gender Difference^2\n",
       "8    5.477721                 Immunization, DPT (% of children^2"
      ]
     },
     "execution_count": 369,
     "metadata": {},
     "output_type": "execute_result"
    }
   ],
   "source": [
    "# vifed = calculate_vif_(quadratic_data, 5)\n",
    "vif = pd.DataFrame()\n",
    "vif[\"VIF Factor\"] = [variance_inflation_factor(quadratic_data.values, i) for i in range(quadratic_data.shape[1])]\n",
    "vif[\"features\"] = quadratic_data.columns\n",
    "vif"
   ]
  },
  {
   "cell_type": "code",
   "execution_count": 367,
   "metadata": {},
   "outputs": [
    {
     "name": "stdout",
     "output_type": "stream",
     "text": [
      "dropping '1' at index: 0\n",
      "dropping 'Age dependency ratio, old' at index: 0\n",
      "dropping 'Immunization, DPT (% of children' at index: 4\n",
      "dropping 'Health expenditure, public (% of Immunization, DPT (% of children' at index: 18\n",
      "dropping 'GDP per capita, PPP (constant 20' at index: 0\n",
      "dropping 'Life expectancy at birth, Gender Difference Immunization, DPT (% of children' at index: 19\n",
      "dropping 'Age dependency ratio, old Immunization, DPT (% of children' at index: 8\n",
      "dropping 'Age dependency ratio, old Life expectancy at birth, Gender Difference' at index: 6\n",
      "dropping 'Life expectancy at birth, Gender Difference' at index: 1\n",
      "dropping 'Health expenditure, public (% of' at index: 0\n",
      "dropping 'Age dependency ratio, old Health expenditure, public (% of' at index: 3\n",
      "dropping 'Age dependency ratio, old GDP per capita, PPP (constant 20' at index: 2\n",
      "dropping 'Mortality rate, under-5, Gender Difference' at index: 0\n",
      "dropping 'GDP per capita, PPP (constant 20 Immunization, DPT (% of children' at index: 6\n",
      "dropping 'Mortality rate, under-5, Gender Difference Immunization, DPT (% of children' at index: 12\n",
      "dropping 'Health expenditure, public (% of Life expectancy at birth, Gender Difference' at index: 7\n",
      "dropping 'GDP per capita, PPP (constant 20 Life expectancy at birth, Gender Difference' at index: 4\n",
      "dropping 'Age dependency ratio, old Mortality rate, under-5, Gender Difference' at index: 1\n",
      "dropping 'GDP per capita, PPP (constant 20 Health expenditure, public (% of' at index: 2\n",
      "Remaining variables:\n",
      "Index(['Age dependency ratio, old^2', 'GDP per capita, PPP (constant 20^2',\n",
      "       'GDP per capita, PPP (constant 20 Mortality rate, under-5, Gender Difference',\n",
      "       'Health expenditure, public (% of^2',\n",
      "       'Health expenditure, public (% of Mortality rate, under-5, Gender Difference',\n",
      "       'Life expectancy at birth, Gender Difference^2',\n",
      "       'Life expectancy at birth, Gender Difference Mortality rate, under-5, Gender Difference',\n",
      "       'Mortality rate, under-5, Gender Difference^2',\n",
      "       'Immunization, DPT (% of children^2'],\n",
      "      dtype='object')\n"
     ]
    }
   ],
   "source": [
    "quadratic_data = calculate_vif_(quadratic_data)"
   ]
  },
  {
   "cell_type": "markdown",
   "metadata": {},
   "source": [
    "# Best Subset Selection for higher order terms"
   ]
  },
  {
   "cell_type": "code",
   "execution_count": null,
   "metadata": {
    "colab": {
     "base_uri": "https://localhost:8080/",
     "height": 391
    },
    "colab_type": "code",
    "executionInfo": {
     "elapsed": 2970028,
     "status": "ok",
     "timestamp": 1543481028416,
     "user": {
      "displayName": "Yiu Chung Wong",
      "photoUrl": "",
      "userId": "13387726171847961125"
     },
     "user_tz": -480
    },
    "id": "bArbPMyIMlAb",
    "outputId": "9d5ce424-1ca4-4be4-bb91-0aa0c7a16c8d"
   },
   "outputs": [],
   "source": [
    "print(\"start\")\n",
    "\n",
    "#Initialization variables\n",
    "best_subset_higher_data = worldbank_imputed.copy()\n",
    "\n",
    "X = quadratic_data\n",
    "Y = best_subset_higher_data[\"Mortality rate, under-5 (per 1,0\"]\n",
    "\n",
    "MSE_list, adj_R_squared_list, feature_list = [],[], []\n",
    "numb_features = []\n",
    "\n",
    "#Looping over k = 1 to k = 11 features in X\n",
    "for k in tnrange(1,len(X.columns) + 1, desc = 'Loop...'):\n",
    "#for k in range(1,len(X.columns) + 1):\n",
    "    print(\"Now working on \", k, \" features!\")\n",
    "    #Looping over all possible combinations: from 11 choose k\n",
    "    for combo in itertools.combinations(X.columns,k):\n",
    "        tmp_result = fit_linear_reg(X[list(combo)],Y)   #Store temp result \n",
    "        MSE_list.append(tmp_result[0])                  #Append lists\n",
    "        adj_R_squared_list.append(tmp_result[1])\n",
    "        \n",
    "        feature_list.append(combo)\n",
    "        numb_features.append(len(combo))   \n",
    "\n",
    "#Store in DataFrame\n",
    "best_sub_features = pd.DataFrame({'numb_features': numb_features,'MSE': MSE_list, 'Adj_R_squared':adj_R_squared_list,'features':feature_list})\n",
    "print(\"Done!\")\n"
   ]
  },
  {
   "cell_type": "code",
   "execution_count": 325,
   "metadata": {
    "colab": {
     "base_uri": "https://localhost:8080/",
     "height": 34
    },
    "colab_type": "code",
    "executionInfo": {
     "elapsed": 711,
     "status": "ok",
     "timestamp": 1543482346607,
     "user": {
      "displayName": "Yiu Chung Wong",
      "photoUrl": "",
      "userId": "13387726171847961125"
     },
     "user_tz": -480
    },
    "id": "0aIxjPGh7Gnf",
    "outputId": "cd876b3f-9bde-48c1-f4fb-70a943263f1e"
   },
   "outputs": [
    {
     "name": "stdout",
     "output_type": "stream",
     "text": [
      "There is a total of 131071 subsets.\n"
     ]
    }
   ],
   "source": [
    "print(\"There is a total of\", best_sub_features.shape[0], \"subsets.\")"
   ]
  },
  {
   "cell_type": "markdown",
   "metadata": {
    "colab_type": "text",
    "id": "gRWUENkD7dPa"
   },
   "source": [
    "There are numerous combinations for every number of features (e.g. 17 combinations when K == 1). \n",
    "We must select the 'best' subset out of 131071 subsets. Hence, for every K (from 1 to 21),  we pick out the subset with smallest test RSS, then store it in a dataframe. We also pick out the subset with highest test adjusted $R^2$, and store them in another dataframe. "
   ]
  },
  {
   "cell_type": "code",
   "execution_count": 328,
   "metadata": {
    "colab": {
     "base_uri": "https://localhost:8080/",
     "height": 267
    },
    "colab_type": "code",
    "executionInfo": {
     "elapsed": 1899,
     "status": "ok",
     "timestamp": 1543483534653,
     "user": {
      "displayName": "Yiu Chung Wong",
      "photoUrl": "",
      "userId": "13387726171847961125"
     },
     "user_tz": -480
    },
    "id": "728_C49qMlAf",
    "outputId": "c3e43771-41e9-4f2b-d374-4f865de74fa0"
   },
   "outputs": [
    {
     "data": {
      "text/html": [
       "<div>\n",
       "<style scoped>\n",
       "    .dataframe tbody tr th:only-of-type {\n",
       "        vertical-align: middle;\n",
       "    }\n",
       "\n",
       "    .dataframe tbody tr th {\n",
       "        vertical-align: top;\n",
       "    }\n",
       "\n",
       "    .dataframe thead th {\n",
       "        text-align: right;\n",
       "    }\n",
       "</style>\n",
       "<table border=\"1\" class=\"dataframe\">\n",
       "  <thead>\n",
       "    <tr style=\"text-align: right;\">\n",
       "      <th></th>\n",
       "      <th>numb_features</th>\n",
       "      <th>MSE</th>\n",
       "      <th>Adj_R_squared</th>\n",
       "      <th>features</th>\n",
       "    </tr>\n",
       "  </thead>\n",
       "  <tbody>\n",
       "    <tr>\n",
       "      <th>14</th>\n",
       "      <td>1</td>\n",
       "      <td>438.201052</td>\n",
       "      <td>0.771590</td>\n",
       "      <td>(Mortality rate, under-5, Gender Difference,)</td>\n",
       "    </tr>\n",
       "    <tr>\n",
       "      <th>144</th>\n",
       "      <td>2</td>\n",
       "      <td>350.419177</td>\n",
       "      <td>0.817346</td>\n",
       "      <td>(Life expectancy at birth, Gender Difference, ...</td>\n",
       "    </tr>\n",
       "    <tr>\n",
       "      <th>827</th>\n",
       "      <td>3</td>\n",
       "      <td>296.584157</td>\n",
       "      <td>0.845407</td>\n",
       "      <td>(Life expectancy at birth, Gender Difference, ...</td>\n",
       "    </tr>\n",
       "  </tbody>\n",
       "</table>\n",
       "</div>"
      ],
      "text/plain": [
       "     numb_features         MSE  Adj_R_squared  \\\n",
       "14               1  438.201052       0.771590   \n",
       "144              2  350.419177       0.817346   \n",
       "827              3  296.584157       0.845407   \n",
       "\n",
       "                                              features  \n",
       "14       (Mortality rate, under-5, Gender Difference,)  \n",
       "144  (Life expectancy at birth, Gender Difference, ...  \n",
       "827  (Life expectancy at birth, Gender Difference, ...  "
      ]
     },
     "metadata": {},
     "output_type": "display_data"
    },
    {
     "data": {
      "text/html": [
       "<div>\n",
       "<style scoped>\n",
       "    .dataframe tbody tr th:only-of-type {\n",
       "        vertical-align: middle;\n",
       "    }\n",
       "\n",
       "    .dataframe tbody tr th {\n",
       "        vertical-align: top;\n",
       "    }\n",
       "\n",
       "    .dataframe thead th {\n",
       "        text-align: right;\n",
       "    }\n",
       "</style>\n",
       "<table border=\"1\" class=\"dataframe\">\n",
       "  <thead>\n",
       "    <tr style=\"text-align: right;\">\n",
       "      <th></th>\n",
       "      <th>numb_features</th>\n",
       "      <th>MSE</th>\n",
       "      <th>Adj_R_squared</th>\n",
       "      <th>features</th>\n",
       "    </tr>\n",
       "  </thead>\n",
       "  <tbody>\n",
       "    <tr>\n",
       "      <th>14</th>\n",
       "      <td>1</td>\n",
       "      <td>438.201052</td>\n",
       "      <td>0.771590</td>\n",
       "      <td>(Mortality rate, under-5, Gender Difference,)</td>\n",
       "    </tr>\n",
       "    <tr>\n",
       "      <th>144</th>\n",
       "      <td>2</td>\n",
       "      <td>350.419177</td>\n",
       "      <td>0.817346</td>\n",
       "      <td>(Life expectancy at birth, Gender Difference, ...</td>\n",
       "    </tr>\n",
       "    <tr>\n",
       "      <th>827</th>\n",
       "      <td>3</td>\n",
       "      <td>296.584157</td>\n",
       "      <td>0.845407</td>\n",
       "      <td>(Life expectancy at birth, Gender Difference, ...</td>\n",
       "    </tr>\n",
       "  </tbody>\n",
       "</table>\n",
       "</div>"
      ],
      "text/plain": [
       "     numb_features         MSE  Adj_R_squared  \\\n",
       "14               1  438.201052       0.771590   \n",
       "144              2  350.419177       0.817346   \n",
       "827              3  296.584157       0.845407   \n",
       "\n",
       "                                              features  \n",
       "14       (Mortality rate, under-5, Gender Difference,)  \n",
       "144  (Life expectancy at birth, Gender Difference, ...  \n",
       "827  (Life expectancy at birth, Gender Difference, ...  "
      ]
     },
     "metadata": {},
     "output_type": "display_data"
    }
   ],
   "source": [
    "min_MSE = best_sub_features[best_sub_features.groupby('numb_features')['MSE'].transform(min) == best_sub_features['MSE']]\n",
    "max_adj_R2 = best_sub_features[best_sub_features.groupby('numb_features')['Adj_R_squared'].transform(max) == best_sub_features['Adj_R_squared']]\n",
    "display(min_MSE.head(3))\n",
    "display(max_adj_R2.head(3))"
   ]
  },
  {
   "cell_type": "markdown",
   "metadata": {
    "colab_type": "text",
    "id": "6lS54Wfw9WEB"
   },
   "source": [
    "The two look very similar. If we compare the two dataframes"
   ]
  },
  {
   "cell_type": "code",
   "execution_count": 329,
   "metadata": {
    "colab": {
     "base_uri": "https://localhost:8080/",
     "height": 34
    },
    "colab_type": "code",
    "executionInfo": {
     "elapsed": 821,
     "status": "ok",
     "timestamp": 1543482440578,
     "user": {
      "displayName": "Yiu Chung Wong",
      "photoUrl": "",
      "userId": "13387726171847961125"
     },
     "user_tz": -480
    },
    "id": "vkTY7syX9ca8",
    "outputId": "4257b870-42e7-4f52-cf3c-110c21ff4a73"
   },
   "outputs": [
    {
     "data": {
      "text/plain": [
       "True"
      ]
     },
     "execution_count": 329,
     "metadata": {},
     "output_type": "execute_result"
    }
   ],
   "source": [
    "all(min_MSE == max_adj_R2)"
   ]
  },
  {
   "cell_type": "markdown",
   "metadata": {
    "colab_type": "text",
    "id": "6w6TDj-z9gVE"
   },
   "source": [
    "We see that the two dataframes are identical. This tells us that for a given K (number of features), the subset with the lowest RSS is also the subset with the highest adjusted $R^2$. \n",
    "\n",
    "Next we sort the two data frames by adjusted  $R^2$ and RSS."
   ]
  },
  {
   "cell_type": "code",
   "execution_count": 330,
   "metadata": {
    "colab": {
     "base_uri": "https://localhost:8080/",
     "height": 515
    },
    "colab_type": "code",
    "executionInfo": {
     "elapsed": 644,
     "status": "ok",
     "timestamp": 1543483596782,
     "user": {
      "displayName": "Yiu Chung Wong",
      "photoUrl": "",
      "userId": "13387726171847961125"
     },
     "user_tz": -480
    },
    "id": "Z7oLXEW7u7fG",
    "outputId": "cd498379-1305-44ff-dcf3-f261fa172b4a"
   },
   "outputs": [
    {
     "data": {
      "text/html": [
       "<div>\n",
       "<style scoped>\n",
       "    .dataframe tbody tr th:only-of-type {\n",
       "        vertical-align: middle;\n",
       "    }\n",
       "\n",
       "    .dataframe tbody tr th {\n",
       "        vertical-align: top;\n",
       "    }\n",
       "\n",
       "    .dataframe thead th {\n",
       "        text-align: right;\n",
       "    }\n",
       "</style>\n",
       "<table border=\"1\" class=\"dataframe\">\n",
       "  <thead>\n",
       "    <tr style=\"text-align: right;\">\n",
       "      <th></th>\n",
       "      <th>numb_features</th>\n",
       "      <th>Adj_R_squared</th>\n",
       "      <th>features</th>\n",
       "    </tr>\n",
       "  </thead>\n",
       "  <tbody>\n",
       "    <tr>\n",
       "      <th>18607</th>\n",
       "      <td>6</td>\n",
       "      <td>0.855810</td>\n",
       "      <td>(Age dependency ratio, old, GDP per capita, PP...</td>\n",
       "    </tr>\n",
       "    <tr>\n",
       "      <th>37686</th>\n",
       "      <td>7</td>\n",
       "      <td>0.852912</td>\n",
       "      <td>(Age dependency ratio, old, GDP per capita, PP...</td>\n",
       "    </tr>\n",
       "    <tr>\n",
       "      <th>7358</th>\n",
       "      <td>5</td>\n",
       "      <td>0.851755</td>\n",
       "      <td>(Age dependency ratio, old, Health expenditure...</td>\n",
       "    </tr>\n",
       "    <tr>\n",
       "      <th>61633</th>\n",
       "      <td>8</td>\n",
       "      <td>0.848925</td>\n",
       "      <td>(Age dependency ratio, old, Agricultural land ...</td>\n",
       "    </tr>\n",
       "    <tr>\n",
       "      <th>3172</th>\n",
       "      <td>4</td>\n",
       "      <td>0.847334</td>\n",
       "      <td>(Health expenditure, public (% of, Life expect...</td>\n",
       "    </tr>\n",
       "    <tr>\n",
       "      <th>827</th>\n",
       "      <td>3</td>\n",
       "      <td>0.845407</td>\n",
       "      <td>(Life expectancy at birth, Gender Difference, ...</td>\n",
       "    </tr>\n",
       "    <tr>\n",
       "      <th>87261</th>\n",
       "      <td>9</td>\n",
       "      <td>0.844349</td>\n",
       "      <td>(Age dependency ratio, old, Agricultural land ...</td>\n",
       "    </tr>\n",
       "  </tbody>\n",
       "</table>\n",
       "</div>"
      ],
      "text/plain": [
       "       numb_features  Adj_R_squared  \\\n",
       "18607              6       0.855810   \n",
       "37686              7       0.852912   \n",
       "7358               5       0.851755   \n",
       "61633              8       0.848925   \n",
       "3172               4       0.847334   \n",
       "827                3       0.845407   \n",
       "87261              9       0.844349   \n",
       "\n",
       "                                                features  \n",
       "18607  (Age dependency ratio, old, GDP per capita, PP...  \n",
       "37686  (Age dependency ratio, old, GDP per capita, PP...  \n",
       "7358   (Age dependency ratio, old, Health expenditure...  \n",
       "61633  (Age dependency ratio, old, Agricultural land ...  \n",
       "3172   (Health expenditure, public (% of, Life expect...  \n",
       "827    (Life expectancy at birth, Gender Difference, ...  \n",
       "87261  (Age dependency ratio, old, Agricultural land ...  "
      ]
     },
     "metadata": {},
     "output_type": "display_data"
    },
    {
     "data": {
      "text/html": [
       "<div>\n",
       "<style scoped>\n",
       "    .dataframe tbody tr th:only-of-type {\n",
       "        vertical-align: middle;\n",
       "    }\n",
       "\n",
       "    .dataframe tbody tr th {\n",
       "        vertical-align: top;\n",
       "    }\n",
       "\n",
       "    .dataframe thead th {\n",
       "        text-align: right;\n",
       "    }\n",
       "</style>\n",
       "<table border=\"1\" class=\"dataframe\">\n",
       "  <thead>\n",
       "    <tr style=\"text-align: right;\">\n",
       "      <th></th>\n",
       "      <th>numb_features</th>\n",
       "      <th>MSE</th>\n",
       "      <th>features</th>\n",
       "    </tr>\n",
       "  </thead>\n",
       "  <tbody>\n",
       "    <tr>\n",
       "      <th>18607</th>\n",
       "      <td>6</td>\n",
       "      <td>276.625795</td>\n",
       "      <td>(Age dependency ratio, old, GDP per capita, PP...</td>\n",
       "    </tr>\n",
       "    <tr>\n",
       "      <th>37686</th>\n",
       "      <td>7</td>\n",
       "      <td>282.185973</td>\n",
       "      <td>(Age dependency ratio, old, GDP per capita, PP...</td>\n",
       "    </tr>\n",
       "    <tr>\n",
       "      <th>7358</th>\n",
       "      <td>5</td>\n",
       "      <td>284.405191</td>\n",
       "      <td>(Age dependency ratio, old, Health expenditure...</td>\n",
       "    </tr>\n",
       "    <tr>\n",
       "      <th>61633</th>\n",
       "      <td>8</td>\n",
       "      <td>289.835622</td>\n",
       "      <td>(Age dependency ratio, old, Agricultural land ...</td>\n",
       "    </tr>\n",
       "    <tr>\n",
       "      <th>3172</th>\n",
       "      <td>4</td>\n",
       "      <td>292.887574</td>\n",
       "      <td>(Health expenditure, public (% of, Life expect...</td>\n",
       "    </tr>\n",
       "    <tr>\n",
       "      <th>827</th>\n",
       "      <td>3</td>\n",
       "      <td>296.584157</td>\n",
       "      <td>(Life expectancy at birth, Gender Difference, ...</td>\n",
       "    </tr>\n",
       "    <tr>\n",
       "      <th>87261</th>\n",
       "      <td>9</td>\n",
       "      <td>298.615100</td>\n",
       "      <td>(Age dependency ratio, old, Agricultural land ...</td>\n",
       "    </tr>\n",
       "  </tbody>\n",
       "</table>\n",
       "</div>"
      ],
      "text/plain": [
       "       numb_features         MSE  \\\n",
       "18607              6  276.625795   \n",
       "37686              7  282.185973   \n",
       "7358               5  284.405191   \n",
       "61633              8  289.835622   \n",
       "3172               4  292.887574   \n",
       "827                3  296.584157   \n",
       "87261              9  298.615100   \n",
       "\n",
       "                                                features  \n",
       "18607  (Age dependency ratio, old, GDP per capita, PP...  \n",
       "37686  (Age dependency ratio, old, GDP per capita, PP...  \n",
       "7358   (Age dependency ratio, old, Health expenditure...  \n",
       "61633  (Age dependency ratio, old, Agricultural land ...  \n",
       "3172   (Health expenditure, public (% of, Life expect...  \n",
       "827    (Life expectancy at birth, Gender Difference, ...  \n",
       "87261  (Age dependency ratio, old, Agricultural land ...  "
      ]
     },
     "metadata": {},
     "output_type": "display_data"
    }
   ],
   "source": [
    "display(max_adj_R2.drop(['MSE'], axis = 1).sort_values(by=['Adj_R_squared'], ascending = False).head(7))\n",
    "display(min_MSE.drop(['Adj_R_squared'], axis = 1).sort_values(by=['MSE'], ascending = True).head(7))"
   ]
  },
  {
   "cell_type": "markdown",
   "metadata": {
    "colab_type": "text",
    "id": "VHXYjFzOy0QM"
   },
   "source": [
    "choose either 10 or 11."
   ]
  },
  {
   "cell_type": "code",
   "execution_count": 344,
   "metadata": {},
   "outputs": [
    {
     "data": {
      "text/plain": [
       "['Age dependency ratio, old',\n",
       " 'GDP per capita, PPP (constant 20',\n",
       " 'Health expenditure, public (% of',\n",
       " 'Life expectancy at birth, Gender Difference',\n",
       " 'Mortality rate, under-5, Gender Difference',\n",
       " 'Immunization, DPT (% of children']"
      ]
     },
     "execution_count": 344,
     "metadata": {},
     "output_type": "execute_result"
    }
   ],
   "source": [
    "best_subset_features = min_MSE[min_MSE[\"numb_features\"] == 6][\"features\"].tolist()\n",
    "best_subset_features = list(best_subset_features[0])\n",
    "best_subset_features"
   ]
  },
  {
   "cell_type": "markdown",
   "metadata": {
    "colab_type": "text",
    "id": "wZNePfxQ-Qsb"
   },
   "source": [
    "## Plotting the best subset selection process"
   ]
  },
  {
   "cell_type": "code",
   "execution_count": 332,
   "metadata": {
    "colab": {
     "base_uri": "https://localhost:8080/",
     "height": 423
    },
    "colab_type": "code",
    "executionInfo": {
     "elapsed": 30417,
     "status": "ok",
     "timestamp": 1543482516588,
     "user": {
      "displayName": "Yiu Chung Wong",
      "photoUrl": "",
      "userId": "13387726171847961125"
     },
     "user_tz": -480
    },
    "id": "yDujHgLU-SK2",
    "outputId": "b7022a7e-3a29-42f2-9cff-ee07b9f0ea47"
   },
   "outputs": [
    {
     "data": {
      "image/png": "[encoded data removed]",
      "text/plain": [
       "<Figure size 1152x432 with 2 Axes>"
      ]
     },
     "metadata": {
      "needs_background": "light"
     },
     "output_type": "display_data"
    }
   ],
   "source": [
    "#Adding columns to the dataframe with RSS and R squared values of the best subset\n",
    "best_sub_features['min_MSE'] = best_sub_features.groupby('numb_features')['MSE'].transform(min)\n",
    "best_sub_features['max_R_squared'] = best_sub_features.groupby('numb_features')['Adj_R_squared'].transform(max)\n",
    "\n",
    "fig = plt.figure(figsize = (16,6))\n",
    "\n",
    "ax = fig.add_subplot(1, 2, 1)\n",
    "ax.scatter(best_sub_features.numb_features,best_sub_features.MSE, alpha = .2, color = 'darkblue' )\n",
    "ax.set_xlabel('# Features')\n",
    "ax.set_ylabel('Test MSE')\n",
    "ax.set_title('MSE - Best subset selection')\n",
    "ax.plot(best_sub_features.numb_features, best_sub_features.min_MSE,color = 'r', label = 'Best subset')\n",
    "ax.legend()\n",
    "\n",
    "ax = fig.add_subplot(1, 2, 2)\n",
    "ax.scatter(best_sub_features.numb_features,best_sub_features.Adj_R_squared, alpha = .2, color = 'darkblue' )\n",
    "ax.plot(best_sub_features.numb_features,best_sub_features.max_R_squared,color = 'r', label = 'Best subset')\n",
    "ax.set_xlabel('# Features')\n",
    "ax.set_ylabel('Test adjusted R squared')\n",
    "ax.set_title('R_squared - Best subset selection')\n",
    "ax.legend()\n",
    "\n",
    "plt.show()"
   ]
  },
  {
   "cell_type": "markdown",
   "metadata": {
    "colab_type": "text",
    "id": "NHES-W02MlAg"
   },
   "source": [
    "# Multiple Regression"
   ]
  },
  {
   "cell_type": "markdown",
   "metadata": {
    "colab_type": "text",
    "id": "8yjreYg9MlAh"
   },
   "source": [
    "Use all first order terms"
   ]
  },
  {
   "cell_type": "code",
   "execution_count": 375,
   "metadata": {
    "colab": {
     "base_uri": "https://localhost:8080/",
     "height": 362
    },
    "colab_type": "code",
    "executionInfo": {
     "elapsed": 664,
     "status": "ok",
     "timestamp": 1543428316377,
     "user": {
      "displayName": "Yiu Chung Wong",
      "photoUrl": "",
      "userId": "13387726171847961125"
     },
     "user_tz": -480
    },
    "id": "HLEfs7WSMlAi",
    "outputId": "99e5f921-1b78-4f48-a4a5-e2dccd2035a1"
   },
   "outputs": [],
   "source": [
    "from statsmodels.graphics.gofplots import qqplot\n",
    "\n",
    "multi_reg_data = worldbank_imputed.copy()\n",
    "X_train, X_test, y_train, y_test = train_test_split(quadratic_data, \n",
    "                                                    multi_reg_data[\"Mortality rate, under-5 (per 1,0\"].values, \n",
    "                                                    test_size=0.2, \n",
    "                                                    random_state = STAT5102)\n",
    "\n",
    "y_train = y_train.reshape(-1, 1)\n",
    "y_test = y_test.reshape(-1, 1)\n",
    "\n",
    "lm = linear_model.LinearRegression()\n",
    "model = lm.fit(X_train, y_train)\n",
    "# predictions = lm.predict(X_test)\n",
    "# residuals = y_test - predictions\n",
    "# residuals = residuals.flatten()\n",
    "\n",
    "fitted_values = lm.predict(X_train)\n",
    "residuals = y_train - fitted_values\n",
    "residuals = residuals.flatten()"
   ]
  },
  {
   "cell_type": "code",
   "execution_count": 376,
   "metadata": {},
   "outputs": [
    {
     "data": {
      "image/png": "[encoded data removed]",
      "text/plain": [
       "<Figure size 864x432 with 3 Axes>"
      ]
     },
     "metadata": {
      "needs_background": "light"
     },
     "output_type": "display_data"
    },
    {
     "name": "stdout",
     "output_type": "stream",
     "text": [
      "Test R^2: 0.7039378878823674\n",
      "Test MSE: 553.0436727855765\n"
     ]
    }
   ],
   "source": [
    "fig = plt.figure(figsize = (12,6))\n",
    "ax1 = plt.subplot(221)\n",
    "ax2 = plt.subplot(222)\n",
    "ax3 = plt.subplot(212)\n",
    "\n",
    "ax1.scatter(y_train, fitted_values)\n",
    "ax1.set_xlabel(\"True Values\")\n",
    "ax1.set_ylabel(\"Predictions\")\n",
    "ax1.set_title(\"True Values v.s. Predictions\")\n",
    "\n",
    "ax2.scatter(fitted_values, residuals)\n",
    "ax2.axhline(y = 0, color='r', linestyle = '--')\n",
    "ax2.set_xlabel(\"Fitted values\")\n",
    "ax2.set_ylabel(\"Residual\")\n",
    "ax2.set_title(\"Residual Plot\")\n",
    "\n",
    "sm.qqplot(residuals, line='s', ax=ax3, fit=True)\n",
    "\n",
    "plt.tight_layout()\n",
    "plt.show()\n",
    "\n",
    "print(\"Test R^2: \" + str(lm.score(X = X_test, y = y_test)))\n",
    "print(\"Test MSE: \" + str(mean_squared_error(y_test, lm.predict(X_test))))"
   ]
  },
  {
   "cell_type": "markdown",
   "metadata": {},
   "source": [
    "### Normality Tests"
   ]
  },
  {
   "cell_type": "code",
   "execution_count": 353,
   "metadata": {},
   "outputs": [
    {
     "name": "stdout",
     "output_type": "stream",
     "text": [
      "Statistics=0.90622, p=3.0142e-08\n",
      "Sample does not look Gaussian (reject H0)\n"
     ]
    }
   ],
   "source": [
    "stat, p = shapiro(residuals)\n",
    "print(f'Statistics={stat:.5}, p={p:.5}')\n",
    "# interpret\n",
    "alpha = 0.05\n",
    "if p > alpha:\n",
    "    print('Sample looks Gaussian (fail to reject H0)')\n",
    "else:\n",
    "    print('Sample does not look Gaussian (reject H0)')"
   ]
  },
  {
   "cell_type": "code",
   "execution_count": 354,
   "metadata": {},
   "outputs": [
    {
     "name": "stdout",
     "output_type": "stream",
     "text": [
      "Statistics=0.45772, p=0.0\n",
      "Sample does not look Gaussian (reject H0)\n"
     ]
    }
   ],
   "source": [
    "stat, p = kstest(residuals, 'norm')\n",
    "print(f'Statistics={stat:.5}, p={p:.5}')\n",
    "alpha = 0.05\n",
    "if p > alpha:\n",
    "    print('Sample looks Gaussian (fail to reject H0)')\n",
    "else:\n",
    "    print('Sample does not look Gaussian (reject H0)')"
   ]
  },
  {
   "cell_type": "code",
   "execution_count": 355,
   "metadata": {},
   "outputs": [
    {
     "name": "stdout",
     "output_type": "stream",
     "text": [
      "Statistic: 3.442109980662906\n",
      "Alpha at 0.15; Critical Value is: 0.562, data does not look Gaussian (reject H0)\n",
      "Alpha at 0.1; Critical Value is: 0.64, data does not look Gaussian (reject H0)\n",
      "Alpha at 0.05; Critical Value is: 0.767, data does not look Gaussian (reject H0)\n",
      "Alpha at 0.025; Critical Value is: 0.895, data does not look Gaussian (reject H0)\n",
      "Alpha at 0.01: Critical Value is: 1.065, data looks Gaussian (fail to reject H0)\n"
     ]
    }
   ],
   "source": [
    "result = anderson(residuals, dist='norm')\n",
    "print(f'Statistic: {result.statistic}')\n",
    "p = 0\n",
    "for i in range(len(result.critical_values)):\n",
    "    sl, cv = result.significance_level[i], result.critical_values[i]\n",
    "    if result.statistic.any() < result.critical_values[i]:\n",
    "        print(f'Alpha at {sl/100}: Critical Value is: {cv}, data looks Gaussian (fail to reject H0)')\n",
    "    else:\n",
    "        print(f'Alpha at {sl/100}; Critical Value is: {cv}, data does not look Gaussian (reject H0)')"
   ]
  },
  {
   "cell_type": "markdown",
   "metadata": {},
   "source": [
    "### Heteroskedasticity test"
   ]
  },
  {
   "cell_type": "code",
   "execution_count": 356,
   "metadata": {},
   "outputs": [
    {
     "name": "stdout",
     "output_type": "stream",
     "text": [
      "F-Statistics = 39.942, p = 2.8699e-09\n",
      "Variance does not look constant (reject H0)\n"
     ]
    }
   ],
   "source": [
    "lm, lm_pvalue, fvalue, f_pvalue = het_breuschpagan(residuals, fitted_values)\n",
    "print(f'F-Statistics = {fvalue:.5}, p = {f_pvalue:.5}')\n",
    "alpha = 0.05\n",
    "if p > alpha:\n",
    "    print('Variance looks constant (fail to reject H0)')\n",
    "else:\n",
    "    print('Variance does not look constant (reject H0)')"
   ]
  }
 ],
 "metadata": {
  "accelerator": "GPU",
  "colab": {
   "collapsed_sections": [],
   "name": "5102 Project.ipynb",
   "provenance": [],
   "version": "0.3.2"
  },
  "kernelspec": {
   "display_name": "Python 3",
   "language": "python",
   "name": "python3"
  },
  "language_info": {
   "codemirror_mode": {
    "name": "ipython",
    "version": 3
   },
   "file_extension": ".py",
   "mimetype": "text/x-python",
   "name": "python",
   "nbconvert_exporter": "python",
   "pygments_lexer": "ipython3",
   "version": "3.6.7"
  }
 },
 "nbformat": 4,
 "nbformat_minor": 1
}
